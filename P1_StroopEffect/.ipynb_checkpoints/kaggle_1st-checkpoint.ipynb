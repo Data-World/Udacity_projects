{
 "cells": [
  {
   "cell_type": "code",
   "execution_count": null,
   "metadata": {
    "collapsed": true
   },
   "outputs": [],
   "source": [
    "import pandas as pd\n",
    "import matplotlib.pyplot as plt\n",
    "\n",
    "# Importing Data\n",
    "path = r'~/Desktop/DataSc_Udacity/P1/stroopdata.csv'\n",
    "dataFrame = pd.read_csv(path)\n",
    "df_mean = dataFrame.mean()\n",
    "df_std = dataFrame.std()\n",
    "df_summary = pd.DataFrame({'$mean':[df_mean[0],df_mean[1]], '$std': [df_std[0],df_std[1]]})\n",
    "df_summary.columns = ['mean','standard deviation']\n",
    "df_summary.index  = ['Congruent','Incongruent']\n",
    "df_summary\n",
    "\n"
   ]
  }
 ],
 "metadata": {
  "kernelspec": {
   "display_name": "Python 3",
   "language": "python",
   "name": "python3"
  },
  "language_info": {
   "codemirror_mode": {
    "name": "ipython",
    "version": 3
   },
   "file_extension": ".py",
   "mimetype": "text/x-python",
   "name": "python",
   "nbconvert_exporter": "python",
   "pygments_lexer": "ipython3",
   "version": "3.3.2"
  }
 },
 "nbformat": 4,
 "nbformat_minor": 0
}
