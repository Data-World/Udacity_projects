{
 "cells": [
  {
   "cell_type": "markdown",
   "metadata": {},
   "source": [
    "## Machine learning for fraud detection in Enron’s financial and email data\n",
    "### Vivek Yadav, PhD\n",
    "\n",
    "#####  02/28/2016\n",
    "\n",
    "\n",
    "\n",
    "#### 1. Goal of the project\n",
    "\n",
    "In this project I investigate the Enron email data. Enron email data set is a large database of about 0.5 Mn emails from about 150 employees at Enron. The Federal Energy Regulatory Commission (FERC) for investigation acquired the data after the company filed for bankruptcy in 2001. Several board members and management employees were involved in illegal business practices, and were eventually charged. Some of these people were found guilty of fraudulent practices, and others settled out of court. These people are tagged as Persons of Interest (POI) in the data set. This project aims to develop a formal scheme to identify POIs.  The goal of this project is to develop an algorithm that has recall and precision above 0.3.  Machine learning techniques are well suited to obtain data-driven solutions to such questions. Machine learning techniques are used for developing models that can be used to learn from and make predictions on data. In this project, I apply machine learning techniques to investigate if a POI can be identified using email and financial data. \n",
    "\n",
    "#### 2. Data Cleaning\n",
    "The first step was exploratory analysis of the data. In the dataset, there were 18 POIs and 146 total entries.  Each data point contained the 21 features, 2 of these are a variable called POI that identifies if a person is POI and other is the email address of the user. \n",
    "\n",
    "1. Outlier: \n",
    "The first step was to identify any outliers in the data and remove them. To identify the outliers, I plotted salary vs bonus data. There was one clear outlier; further investigation revealed this outlier was 'TOTAL'. After removing this outlier, the other values followed the expected distribution where there were a few numbers in millions and many around 100,000. \n",
    "\n",
    "2. Missing values:\n",
    "The financial and email data were collected from different sources. Financial data came from the insider pay data, and email data came from Enron’s email set.  Therefore, for several people, financial data was missing.  For example, of the 146 entries, only 94 had information about salary (excluding TOTAL). As 0 was imputed for missing values, a machine learning algorithm may use the missing values to predict if an individual is POI or not. For example, of the 145 individuals in the data set, 50 individuals did not have email information. Of these 50 individuals, 4 (out of 18 total) were POIs. Therefore, a machine learning algorithm can utilize 0 value for salary to tag non-POIs. Further, there were only 58 individuals that had information regarding salary, bonus, restricted stock value and to_message entries, of which 14 were POIs. Therefore, to avoid the chance of machine learning algorithm using lack of information as a feature, I included only individuals who had both financial and email data. \n",
    "\n",
    "I selected individuals that had data for salary and to_messages entries. After this step, the number of individuals in the data set reduced to 94 and the number of POIs went from 18 to 17. I built the model based on financial and email data, the instances of these values changes as follows after this step.\n",
    "- salary: 95 --> 94\n",
    "- total_payments: 125 --> 94\n",
    "- bonus: 82 --> 81\n",
    "- restricted_stock: 110 --> 86\n",
    "- other --> 93 --> 88\n",
    "- to_messages: 86 --> 67\n",
    "- from_messages: 86 --> 67\n",
    "- from_this_person_to_poi: 86 --> 67\n",
    "- from_poi_to_this_person: 86 --> 67\n",
    "\n",
    "Important: All the POI-emails related data have information about entire data set. Therefore, a true test would have been to calculate email features for training and testing set differently. However, in this application, as the goal was to test if a machine learning algorithm can identify POIs and reveal characteristics of POIs, separate training/testing features for email features was not calculated. \n",
    "\n",
    "#### 3. Feature Engineering:\n",
    "\n",
    "##### Financial data: \n",
    "After removing the incomplete salary data, I had 94 data points. I used salary, bonus, total payments, restricted stock value and other payments information to design the financial features, for email I used all the email features. From these features, I designed 10 new features.  First five are financial features. It is expected that persons involved in fraudulent practices did so for monetary gains, therefore, these people are expected to have higher additional income to salary ratio. I therefore computed the ratio of additional income and salary. Further, its possible that some individuals have large bonuses and others smaller, I therefore took log of the value to make the distribution more symmetric, and to have all the number of similar dimensions. For example, a salary varied from 50,000 to 1.2 million, however, log of these values varied from 11 to 14. \n",
    "\n",
    " These are listed below, \n",
    "1.\tLog of salary\n",
    "2.\tLog of bonus\n",
    "3.\tLog of total payments\n",
    "4.\tLog of restricted stock\n",
    "5.\tLog of other payments\n",
    "6.\tLog of total stock value\n",
    "7.\tLog of exercised stock option\n",
    "8.\tLog of expenses\n",
    "9. Log of long term incentive. \n",
    "\n",
    "Above values are expected to be highly correlated. For example, an individual with higher salary is expected to be in upper management and should have greater incentives than a lower grade have higher bonus, total payments, restricted stock etc. Also, as total payments or total stock options are summations of different types of payments and stock options, respectively, these values are expected to be highly correlated. I therefore applied principal component analysis to reduce the dimension of the data, before applying PCA, I used MinMaxScaler() to scale data between -1 and 1. I used first 3 components of PCA because these 3 components explained about 70% of the variance. This transformation resulted in distict clustering of POI values that could be used for identifying if a given individual belongs to POI class or not. \n",
    "\n",
    "##### Email data: \n",
    "\n",
    "Email features were computed by taking log of ratios. As 0 is a valid entry, I added 1 to the ratio before computing the log. I calculated total of 5 features, as described below. I did not use a scaler for these values as all values were between 0 and 2. \n",
    "Email features\n",
    "1.\tLog of ratio of emails to POI and total outgoing emails\n",
    "2.\tLog of ratio of emails from POI and total incoming emails\n",
    "3.\tLog of ratio of emails to POI and total interaction with POI (sum of to, from and shared with POI emails). \n",
    "4.\tLog of ratio of emails from POI and total interaction with POI (sum of to, from and shared with POI emails). \n",
    "5.\tLog of To-From mail ratio to quantify how active a user is in receiving and sending out emails. \n",
    "\n",
    "In the email features, each entry is a distinct quantity quantifying different aspect of interaction. I therefore did not choose to use PCA for dimensionality reduction. However, I used SelectKbest to choose 3 features that had the highest chi-square statistic. These features were \n",
    "- Log of ratio of emails to POI and total outgoing emails\n",
    "- Log of ratio of emails from POI and total incoming emails\n",
    "- Log of To-From mail ratio to quantify how active a user is in receiving and sending out emails. \n",
    "\n",
    "I used the 3 financial features from PCA along with these 3 email features to make the model to predict if an individual is POI or not. \n",
    "\n",
    "\n",
    "#### 4. Predictive Modeling\n",
    "\n",
    "##### Scoring function: \n",
    "\n",
    "Goal of this project was to design a machine learning algorithm that has precision and recall above 0.3. Therefore, instead of using precision or recall as scoring function, I used a custom scorer that returned minimum of precision and recall, and the goal of the algorithm was to maximize the minimum of precision and recall. \n",
    "\n",
    "##### Model Candidate selection:\n",
    "\n",
    "I tested 6 algorithms. These were naïve bayes, support vector machines, decision trees, random forest, adaptive boosting, and kmeans clustering. It is crucial to select model parameters appropriately, because bad choice of parameters can result in overfitting of data or an algorithm that is too sensitive to variations in data. I used GridsearchCV to compute optimal parameters for individual models. The parameters and the values tested for individual models are given below. \n",
    "\n",
    "1. SVC:\n",
    "    - 'C': [100,500,1e3, 5e3, 1e4, 5e4, 1e5],\n",
    "    - 'gamma': [0.0001, 0.0005, 0.001, 0.005, 0.01, 0.1],\n",
    "2. DecisionTree:\n",
    "    - 'min_samples_split': [1,2 ,3,4,5,6,7,8],\n",
    "    - 'max_depth':[1,2,3,4,5,6],\n",
    "    - 'max_features':[2,3,4,5],\n",
    "    - 'criterion':['gini','entropy']\n",
    "3. Adaptive Boosting: \n",
    "    - 'learning_rate': [.1,.2,.3,.4,.5,.6,.7,.8,.9,1.0],\n",
    "    - 'n_estimators': [5,10, 25,50,75,100],\n",
    "4. K-Means: \n",
    "    - 'n_clusters': [4,5,6,7,8,9]\n",
    "5. Random forest: \n",
    "    - 'min_samples_split': [1,2,3,4,5,6,7,8]\n",
    "    - 'max_depth':[1,2,3,4,5,6]\n",
    "    - 'max_features':[2,3,4,5]\n",
    "    - 'criterion':['gini','entropy']\n",
    "6. Naïve Bayes\n",
    "\n",
    "\n",
    "To get the best model candidate, I used GridsearchCV. It is crucial to test the performance of the model on a dataset/split that wasn’t used for training or parameter selection, because fine tuning model parameters can result in overfitting of the model. Another issue is in choosing the split data is that the training and test sets may not have the same proportion of entries for different classes. I therefore incorporated StratifiedShuffleSplit in GridsearchCV to perform crossvalidation while testing different parameters. \n",
    "\n",
    "I fit the model on a training set, and tested its prediction another testing set.  I generated training and testing sets using StratifiedShuffleSplit function in sklearn, and split data such that the training set is 30% of the total data. I repeated this process 25 times by setting n_iterations to 25. I provided a custom scoring function that maximized the minimum of precision and recall. After performing grid search, I got the following parameters for the models. \n",
    "\n",
    "- SVC: best score = 0.2803, 'C': 500, 'gamma': 0.0005\n",
    "- DecisionTreeClassifier: best score =0.2789, 'max_features': 5, 'min_samples_split': 8, 'criterion': 'gini', 'max_depth': 6\n",
    "- RandomForest: best score = 0.2387, 'max_features': 4, 'min_samples_split': 4, 'criterion': 'gini', 'max_depth': 6\n",
    "- AdaBoostClassifier: best score = 0.222, 'n_estimators': 100, 'learning_rate': 0.4. \n",
    "- KMeans: best score: 0.2202, 'n_clusters': 9\n",
    "\n",
    "After getting the candidate model, I checked performance on a larger set of training and test data. For this part, I used StratifiedShuffleSplit to generate 1000 sets of data with training set containing 90% of data and testing set containing 10%. This split was similar to the testing function in tester file.\n",
    "\n",
    "##### Validation of models\n",
    "It is crucial to test the performance of the model on a dataset/split that wasn’t used for training or parameter selection, because fine tuning model parameters can result in overfitting of the model. Another issue is in choosing the split data is that the training and test sets may not have same proportion of entries for different classes. I therefore used StratifiedShuffleSplit again but now used 1000 sets of data with test size restricted to 0.1. Below are performance of individual models, \n",
    "\n",
    "1- SVC\n",
    "    - Mean Precision: 0.3313 , Mean Recall: 0.597\n",
    "    - STD Precision: 0.2145 , STD Recall: 0.3355 \n",
    "    - CI Precision: (0.3179, 0.3445)\n",
    "    - CI_recall: (0.5761, 0.6178)\n",
    "  \n",
    "            \n",
    "2- DecisionTree\n",
    "    - Mean Precision: 0.3465 , Mean Recall: 0.2875\n",
    "    - STD Precision: 0.4027 , STD Recall: 0.31\n",
    "    - CI Precision: (0.3215, 0.3715)\n",
    "    - CI_recall: (0.2682, 0.3067)\n",
    "    \n",
    "    \n",
    "\n",
    "3- Adaptive Boosting\n",
    "    - Mean Precision: 0.3419 , Mean Recall: 0.2645\n",
    "    - STD Precision: 0.4127 , STD Recall: 0.3087\n",
    "    - CI Precision: (0.3163, 0.36755)\n",
    "    - CI_recall: (0.2453, 0.2836)\n",
    "            \n",
    "\n",
    "4- Random Forest\n",
    "    - Mean Precision: 0.2144 , Mean Recall: 0.1555\n",
    "    - STD Precision: 0.367 , STD Recall: 0.2521\n",
    "    - CI Precision: (0.1915, 0.2371)\n",
    "    - CI_recall: (0.1398, 0.1711)\n",
    "\n",
    "\n",
    "5- Naive Bayes\n",
    "    - Mean Precision: 0.1311 , Mean Recall: 0.0995\n",
    "    - STD Precision: 0.2911 , STD Recall: 0.1996\n",
    "    - CI Precision: (0.1130, 0.1492)\n",
    "    - CI_recall: (0.0871, 0.1118)\n",
    "\n",
    "\n",
    "6- K-Means\n",
    "    - Mean Precision: 0.1285 , Mean Recall: 0.211\n",
    "    - STD Precision: 0.2798 , STD Recall: 0.4\n",
    "    - CI Precision: (0.1111, 0.1458)\n",
    "    - CI_recall: (0.1861, 0.2358)\n",
    "\n",
    "\n",
    "#### Final candidate model selection\n",
    "From above, SVC provided the best precision and recall, further the 95% confidence interval for both precision and recall were above 0.3 for this algorithm only. I therefore will use this for further tuning. \n",
    "\n",
    "\n",
    "#### Additional Analysis on PCA\n",
    "I used PCA on all the data and calculated principal components for all the financial features. This method however computed PCA based on all the data, therefore, there could be some information leakage from test to training data. I therefore tested the effect of performing PCA separately on training set, and using those Principal components for dimensionality reduction. For this process, I used pipeline in sklearn. I varied the parameters of SVC (C and gamma) along with number of principal components of financial features. In addition I varied K in selectkbest to compute the best combination of email factors. After this process, the score changed as follows, \n",
    "\n",
    "1- SVC with PCA on all data, with finer gridsearchCV, 'C': 150, 'gamma': 0.005. \n",
    "    - Mean Precision: 0.3745 , Mean Recall: 0.6715\n",
    "    - STD Precision: 0.2224 , STD Recall: 0.3367\n",
    "    - CI Precision: (0.3606, 0.3882)\n",
    "    - CI_recall: (0.6505, 0.6924)\n",
    "2- SVC with PCA on training data in each validation/fitting cycle\n",
    "    - Mean Precision: 0.5043 , Mean Recall: 0.563\n",
    "    - STD Precision: 0.3688 , STD Recall: 0.35 \n",
    "    - CI Precision: (0.4832, 0.5247)\n",
    "    - CI_recall: (0.5414, 0.5846)\n",
    "\n",
    "### Final model\n",
    "\n",
    "After analysis above, I chose to use a model in which I fit PCA to each training data set, and use those principal components to transform test data. After using pipeline and gridsearchCV, I got the following modeling parameters,\n",
    "- C = 5\n",
    "- gamma = 0.01\n",
    "- Number of principal components for financial features, 3\n",
    "- Number of email features, 2\n",
    "\n",
    "After using this values in the final model, I got precision and recall values above 0.3. These values are, \n",
    "- Accuracy: 0.79380\t\n",
    "- Precision: 0.48674\t\n",
    "- Recall: 0.56900\t\n",
    "- F1: 0.52467\tF2: 0.55040\n",
    "- Total predictions: 10000\tTrue positives: 1138\tFalse positives: 1200\tFalse negatives:  862\tTrue negatives: 6800\n",
    "\n",
    "\n",
    "Recall of 0.569 indicates that if a person is POI, the model can identify that person as POI 56.9% of the time. \n",
    "Precision of 0.487 indicates that among all the people identified as POI by the model, only 48.7% are POIs. \n"
   ]
  },
  {
   "cell_type": "code",
   "execution_count": 1,
   "metadata": {
    "collapsed": false
   },
   "outputs": [],
   "source": [
    "## Loading libraries for program\n",
    "from IPython.display import Image\n",
    "import matplotlib.pyplot as plt\n",
    "import sys\n",
    "import pickle\n",
    "from sklearn import preprocessing\n",
    "from time import time\n",
    "from sklearn.naive_bayes import GaussianNB\n",
    "from sklearn.metrics import accuracy_score\n",
    "from sklearn.grid_search import GridSearchCV\n",
    "from sklearn.metrics import precision_score\n",
    "from sklearn.metrics import recall_score\n",
    "from sklearn.cluster import KMeans\n",
    "sys.path.append(\"../tools/\")\n",
    "from tester import test_classifier \n",
    "from feature_format import featureFormat, targetFeatureSplit\n",
    "from tester import dump_classifier_and_data\n",
    "from sklearn.preprocessing import MinMaxScaler\n",
    "from sklearn.grid_search import GridSearchCV\n",
    "from sklearn.decomposition import RandomizedPCA, PCA\n",
    "from sklearn.svm import SVC\n",
    "from sklearn.ensemble import RandomForestClassifier, AdaBoostClassifier\n",
    "from sklearn.pipeline import Pipeline, FeatureUnion\n",
    "from sklearn.cross_validation import StratifiedShuffleSplit\n",
    "import scipy.stats as st\n",
    "from sklearn.cluster import MiniBatchKMeans\n",
    "from sklearn.linear_model import SGDRegressor\n",
    "from sklearn.cross_validation import KFold\n",
    "from sklearn.preprocessing import FunctionTransformer\n",
    "from sklearn.feature_selection import SelectKBest, chi2\n",
    "from sklearn.feature_selection import f_regression\n",
    "from sklearn.tree import DecisionTreeClassifier\n",
    "from sklearn.metrics import classification_report\n",
    "from sklearn.metrics import make_scorer\n",
    "from feature_format import featureFormat\n",
    "from feature_format import targetFeatureSplit\n",
    "from pprint import pprint\n",
    "\n",
    "### features_list is a list of strings, each of which is a feature name\n",
    "### first feature must be \"poi\", as this will be singled out as the label\n"
   ]
  },
  {
   "cell_type": "code",
   "execution_count": 2,
   "metadata": {
    "collapsed": false
   },
   "outputs": [
    {
     "name": "stdout",
     "output_type": "stream",
     "text": [
      "Populating the interactive namespace from numpy and matplotlib\n"
     ]
    }
   ],
   "source": [
    "# Calculating precision and recall\n",
    "%pylab inline\n",
    "\n",
    "def precision_recall(labels,predictions):\n",
    "    ind_true_pos = [i for i in range(0,len(labels)) if (predictions[i]==1) & (labels[i]==1)]\n",
    "    ind_false_pos = [i for i in range(0,len(labels)) if ((predictions[i]==1) & (labels[i]==0))]\n",
    "    ind_false_neg = [i for i in range(0,len(labels)) if ((predictions[i]==0) & (labels[i]==1))]\n",
    "    ind_true_neg = [i for i in range(0,len(labels)) if ((predictions[i]==0) & (labels[i]==0))]\n",
    "    precision = 0\n",
    "    recall = 0\n",
    "    \n",
    "    \n",
    "    ind_labels = [i for i in range(0,len(labels)) if labels[i]==1]\n",
    "    \n",
    "    if len(ind_labels) !=0:\n",
    "        if float( len(ind_true_pos) + len(ind_false_pos))!=0:\n",
    "            precision = float(len(ind_true_pos))/float( len(ind_true_pos) + len(ind_false_pos))\n",
    "        if float( len(ind_true_pos) + len(ind_false_neg))!=0:\n",
    "            recall = float(len(ind_true_pos))/float( len(ind_true_pos) + len(ind_false_neg))\n",
    "        return precision, recall\n",
    "    else:\n",
    "        return -1,-1\n",
    "\n",
    "# Getting PCA\n",
    "def features_pca(features_fin,n_comp):\n",
    "    scaler = MinMaxScaler()\n",
    "    finance_scaler = scaler.fit(features_fin)\n",
    "    features_fin = finance_scaler.transform(features_fin)\n",
    "\n",
    "    pca = RandomizedPCA(n_components=n_comp,whiten=True).fit(features_fin)\n",
    "    #print 'pca', pca\n",
    "    features_fin = pca.transform(features_fin)\n",
    "    features_fin = np.array(features_fin)\n",
    "    return pca, features_fin\n",
    "\n",
    "# Plotting function\n",
    "def plot_data(labels, X, ind_1,ind_2,xlab,ylab):\n",
    "    for i in range(0,len(labels)):\n",
    "        x_i = X[i]\n",
    "        if labels[i] == 0:\n",
    "            matplotlib.pyplot.scatter(X[i][ind_1], X[i][ind_2],color ='k')\n",
    "    for i in range(0,len(labels)):\n",
    "        x_i = X[i]\n",
    "        if labels[i] == 1:\n",
    "            matplotlib.pyplot.scatter(X[i][ind_1], X[i][ind_2],color ='r')\n",
    "    matplotlib.pyplot.xlabel(xlab)\n",
    "    matplotlib.pyplot.ylabel(ylab)\n",
    "    \n",
    "\n",
    "class ColumnExtractor(object):\n",
    "\n",
    "    def __init__(self, cols):\n",
    "        self.cols = cols\n",
    "\n",
    "    def transform(self, X):\n",
    "        col_list = []\n",
    "        X = np.array(X)\n",
    "        #print self.cols\n",
    "        for c in self.cols:\n",
    "            #print c\n",
    "            col_list.append(X[:,c:c+1])\n",
    "        #print np.concatenate(col_list, axis=1)    \n",
    "        return np.concatenate(col_list, axis=1)\n",
    "\n",
    "    def fit(self, X, y=None):\n",
    "        return self"
   ]
  },
  {
   "cell_type": "markdown",
   "metadata": {},
   "source": [
    "\n"
   ]
  },
  {
   "cell_type": "markdown",
   "metadata": {
    "collapsed": true
   },
   "source": [
    "#### Exploratory analysis"
   ]
  },
  {
   "cell_type": "markdown",
   "metadata": {
    "collapsed": false
   },
   "source": [
    " "
   ]
  },
  {
   "cell_type": "code",
   "execution_count": 3,
   "metadata": {
    "collapsed": false
   },
   "outputs": [
    {
     "name": "stdout",
     "output_type": "stream",
     "text": [
      "Exploratory Analysis:\n"
     ]
    }
   ],
   "source": [
    "# EDA \n",
    "print 'Exploratory Analysis:'\n",
    "features_list = [\"poi\"]\n",
    "\n",
    "### load the dictionary containing the dataset\n",
    "data_dict = pickle.load(open(\"final_project_dataset.pkl\", \"r\") )"
   ]
  },
  {
   "cell_type": "code",
   "execution_count": 4,
   "metadata": {
    "collapsed": false
   },
   "outputs": [
    {
     "name": "stdout",
     "output_type": "stream",
     "text": [
      "Total number of executives : 146\n",
      "\n",
      "Instances BEFORE removing outliers/missing data\n",
      "\n",
      "salary 95\n",
      "to_messages 86\n",
      "deferral_payments 39\n",
      "total_payments 125\n",
      "exercised_stock_options 102\n",
      "bonus 82\n",
      "restricted_stock 110\n",
      "shared_receipt_with_poi 86\n",
      "restricted_stock_deferred 18\n",
      "total_stock_value 126\n",
      "expenses 95\n",
      "loan_advances 4\n",
      "from_messages 86\n",
      "other 93\n",
      "from_this_person_to_poi 86\n",
      "poi 146\n",
      "director_fees 17\n",
      "deferred_income 49\n",
      "long_term_incentive 66\n",
      "email_address 0\n",
      "from_poi_to_this_person 86\n"
     ]
    }
   ],
   "source": [
    "print \"Total number of executives :\", len(data_dict.keys())\n",
    "features_list = [\"poi\",\"salary\", \"bonus\"]\n",
    "my_dataset = data_dict\n",
    "data = featureFormat(my_dataset, features_list, sort_keys = True)\n",
    "labels, features = targetFeatureSplit(data)\n",
    "\n",
    "\n",
    "feature_all = data_dict[data_dict.keys()[1]].keys()\n",
    "print ''\n",
    "print 'Instances BEFORE removing outliers/missing data'\n",
    "print ''\n",
    "\n",
    "for f_i in range(0,len(feature_all)):\n",
    "    f_all = feature_all\n",
    "    feature_count = [k for k,v in data_dict.items() if isinstance(v[f_all[f_i]],int)]\n",
    "    print f_all[f_i], len(feature_count)"
   ]
  },
  {
   "cell_type": "code",
   "execution_count": 5,
   "metadata": {
    "collapsed": false
   },
   "outputs": [
    {
     "data": {
      "image/png": "[encoded data removed]",
      "text/plain": [
       "<matplotlib.figure.Figure at 0x111be7310>"
      ]
     },
     "metadata": {},
     "output_type": "display_data"
    }
   ],
   "source": [
    "X = features\n",
    "ind_1 = 0\n",
    "ind_2 = 1\n",
    "for i in range(0,len(labels)):\n",
    "    x_i = X[i]\n",
    "    if labels[i] == 1:\n",
    "        matplotlib.pyplot.scatter(X[i][ind_1], X[i][ind_2],color ='r')\n",
    "    else:\n",
    "        matplotlib.pyplot.scatter(X[i][ind_1], X[i][ind_2],color ='k')\n",
    "matplotlib.pyplot.xlabel(\"Salary\")\n",
    "matplotlib.pyplot.ylabel(\"Bonus\")\n",
    "matplotlib.pyplot.show()"
   ]
  },
  {
   "cell_type": "markdown",
   "metadata": {},
   "source": [
    "There is one clear outlier. This outlier was 'TOTAL'. In addition data points with missing values were deleted. Only data that had 'salary' information were taken. "
   ]
  },
  {
   "cell_type": "code",
   "execution_count": 6,
   "metadata": {
    "collapsed": false
   },
   "outputs": [
    {
     "name": "stderr",
     "output_type": "stream",
     "text": [
      "/anaconda/lib/python2.7/site-packages/ipykernel/__main__.py:47: RuntimeWarning: divide by zero encountered in log\n",
      "/anaconda/lib/python2.7/site-packages/ipykernel/__main__.py:45: RuntimeWarning: divide by zero encountered in log\n"
     ]
    },
    {
     "name": "stdout",
     "output_type": "stream",
     "text": [
      "Outliers/missing values removed =  52\n"
     ]
    },
    {
     "data": {
      "image/png": "[encoded data removed]",
      "text/plain": [
       "<matplotlib.figure.Figure at 0x111bd2f90>"
      ]
     },
     "metadata": {},
     "output_type": "display_data"
    },
    {
     "name": "stdout",
     "output_type": "stream",
     "text": [
      "Total number of executives : 94\n",
      "\n",
      "Instances BEFORE removing outliers/missing data\n",
      "\n",
      "salary 94\n",
      "to_messages 67\n",
      "deferral_payments 26\n",
      "total_payments 94\n",
      "exercised_stock_options 71\n",
      "bonus 81\n",
      "restricted_stock 86\n",
      "shared_receipt_with_poi 67\n",
      "restricted_stock_deferred 9\n",
      "total_stock_value 90\n",
      "expenses 81\n",
      "loan_advances 3\n",
      "from_messages 67\n",
      "other 88\n",
      "from_this_person_to_poi 67\n",
      "poi 94\n",
      "director_fees 0\n",
      "deferred_income 36\n",
      "long_term_incentive 64\n",
      "email_address 0\n",
      "from_poi_to_this_person 67\n"
     ]
    }
   ],
   "source": [
    "# OUTLIER REMOVAL\n",
    "i_count = 0\n",
    "key_rm  = list()\n",
    "for key in data_dict:\n",
    "    data_dict[key]['id'] = i_count\n",
    "    i_count += 1\n",
    "    in_salary = isinstance(data_dict[key]['salary'],int)\n",
    "    in_ToMsg = isinstance(data_dict[key]['to_messages'],int)\n",
    "    in_bonus = isinstance(data_dict[key]['bonus'],int)\n",
    "    in_resSt = isinstance(data_dict[key]['restricted_stock'],int)\n",
    "    if (in_salary==False): #|(in_ToMsg==False): #|(in_resSt==False)|(in_bonus==False):\n",
    "        key_rm.append(key)\n",
    "    if (in_salary & in_bonus): \n",
    "        if ((data_dict[key]['bonus']>=5000000.0) & (data_dict[key]['salary']>=5000000.0) ):\n",
    "            key_rm.append(key)\n",
    "            \n",
    "            \n",
    "print 'Outliers/missing values removed = ',len(key_rm)\n",
    "for ki in key_rm:\n",
    "    data_dict.pop( ki, 0 )\n",
    "\n",
    "my_dataset = data_dict\n",
    "data = featureFormat(my_dataset, features_list, sort_keys = True)\n",
    "labels, features = targetFeatureSplit(data)\n",
    "\n",
    "X = features\n",
    "ind_1 = 0\n",
    "ind_2 = 1\n",
    "\n",
    "matplotlib.pyplot.figure(figsize=(15,10))\n",
    "ax1 = subplot(1,2,1)\n",
    "for i in range(0,len(labels)):\n",
    "    x_i = X[i]\n",
    "    if labels[i] == 1:\n",
    "        matplotlib.pyplot.scatter( (X[i][ind_1]), (X[i][ind_2]),color ='r')\n",
    "    else:\n",
    "        matplotlib.pyplot.scatter( (X[i][ind_1]), (X[i][ind_2]),color ='k')\n",
    "\n",
    "matplotlib.pyplot.xlabel(\"Salary\")\n",
    "matplotlib.pyplot.ylabel(\"Bonus\")\n",
    "ax2 = subplot(1,2,2)\n",
    "for i in range(0,len(labels)):\n",
    "    x_i = X[i]\n",
    "    if labels[i] == 1:\n",
    "        matplotlib.pyplot.scatter(np.log(X[i][ind_1]), np.log(X[i][ind_2]),color ='r')\n",
    "    else:\n",
    "        matplotlib.pyplot.scatter(np.log(X[i][ind_1]), np.log(X[i][ind_2]),color ='k')\n",
    "\n",
    "matplotlib.pyplot.xlabel(\"Log Salary\")\n",
    "matplotlib.pyplot.ylabel(\"Log Bonus\")\n",
    "\n",
    "matplotlib.pyplot.show()\n",
    "\n",
    "\n",
    "\n",
    "print \"Total number of executives :\", len(data_dict.keys())\n",
    "print ''\n",
    "print 'Instances BEFORE removing outliers/missing data'\n",
    "print ''\n",
    "\n",
    "for f_i in range(0,len(feature_all)):\n",
    "    f_all = feature_all\n",
    "    feature_count = [k for k,v in data_dict.items() if isinstance(v[f_all[f_i]],int)]\n",
    "    print f_all[f_i], len(feature_count)"
   ]
  },
  {
   "cell_type": "markdown",
   "metadata": {
    "collapsed": false
   },
   "source": [
    "I took log of values so the salary, bonus, restricted stock etc are in the same range. For example, salary varied between 50000 and 1.2 million, by taking log these values varied between 11 and 14. \n",
    "\n",
    "For email feature, ratio of mails sent to/from POI were divided by total to/from mails. As 0 is valid entry, 1 was added to the ratio. \n",
    "\n",
    "These resulted in 9 financial features and 5 email features. "
   ]
  },
  {
   "cell_type": "code",
   "execution_count": 7,
   "metadata": {
    "collapsed": true
   },
   "outputs": [],
   "source": [
    "## MAKING NEW FEATURES    \n",
    "features_list = [\"poi\"]\n",
    "for key in data_dict:\n",
    "    \n",
    "    data_dict[key]['log_total'] = 0\n",
    "    data_dict[key]['log_bonus'] = 0\n",
    "    data_dict[key]['log_restricted'] = 0\n",
    "    data_dict[key]['log_other'] = 0\n",
    "    data_dict[key]['log_salary'] = 0\n",
    "    data_dict[key]['log_exercised_stock_options'] = 0\n",
    "    data_dict[key]['log_long_term_incentive'] = 0\n",
    "    data_dict[key]['log_total_stock_value'] = 0\n",
    "    data_dict[key]['log_expense'] = 0\n",
    "\n",
    "    \n",
    "    in_salary = isinstance(data_dict[key]['salary'],int)\n",
    "    in_ToMsg = isinstance(data_dict[key]['to_messages'],int)\n",
    "    in_bonus = isinstance(data_dict[key]['bonus'],int)\n",
    "    in_resSt = isinstance(data_dict[key]['restricted_stock'],int)\n",
    "    in_TPay = isinstance(data_dict[key]['total_payments'],int)\n",
    "    in_Othr = isinstance(data_dict[key]['other'],int)\n",
    "    in_exrSt = isinstance(data_dict[key]['exercised_stock_options'],int)\n",
    "    in_LTI = isinstance(data_dict[key]['long_term_incentive'],int)\n",
    "    in_totSt = isinstance(data_dict[key]['total_stock_value'],int)\n",
    "    in_exp = isinstance(data_dict[key]['expenses'],int)\n",
    "\n",
    "    if  (in_salary):\n",
    "        \n",
    "        v_salary = float(data_dict[key]['salary'])\n",
    "        v_totpay = float(data_dict[key]['total_payments'])\n",
    "        v_bonus = float(data_dict[key]['bonus'])\n",
    "        v_ResSt = float(data_dict[key]['restricted_stock'])\n",
    "        v_Other = float(data_dict[key]['other'])\n",
    "        v_exrSt = float(data_dict[key]['exercised_stock_options'])\n",
    "        v_LTI = float(data_dict[key]['long_term_incentive'])\n",
    "        v_totSt = float(data_dict[key]['total_stock_value'])\n",
    "        v_exps = float(data_dict[key]['expenses'])\n",
    "\n",
    "        \n",
    "        data_dict[key]['log_salary'] = np.log(v_salary)\n",
    "        \n",
    "        \n",
    "        if (in_TPay):\n",
    "            data_dict[key]['log_total'] = np.log(v_totpay ) \n",
    "        if (in_bonus):\n",
    "            data_dict[key]['log_bonus'] =  np.log(v_bonus) \n",
    "        if (in_resSt):\n",
    "            data_dict[key]['log_restricted'] =  np.log(v_ResSt) \n",
    "        if (in_Othr):\n",
    "            data_dict[key]['log_other'] =  np.log(v_Other)  \n",
    "        if (in_exrSt):\n",
    "            data_dict[key]['log_exercised_stock_options'] =  np.log(v_exrSt)  \n",
    "        if (in_LTI):\n",
    "            data_dict[key]['log_long_term_incentive'] =  np.log(v_LTI)  \n",
    "        if (in_totSt):\n",
    "            data_dict[key]['log_total_stock_value'] =  np.log(v_totSt)  \n",
    "        if (in_exp):\n",
    "            data_dict[key]['log_expense'] =  np.log(v_exps)  \n",
    "         \n",
    "        \n",
    "    data_dict[key]['to_ratio'] = 0\n",
    "    data_dict[key]['from_ratio'] = 0\n",
    "    data_dict[key]['from_poi_ratio'] = 0\n",
    "    data_dict[key]['to_poi_ratio'] = 0\n",
    "    data_dict[key]['to_mail_ratio'] = 0\n",
    "\n",
    "    is_frmPoiToThis = isinstance(data_dict[key]['from_poi_to_this_person'],int)\n",
    "    is_frmThisToPoi = isinstance(data_dict[key]['from_this_person_to_poi'],int)\n",
    "\n",
    "    if  is_frmPoiToThis & is_frmThisToPoi:\n",
    "        poi_fr = float(data_dict[key]['from_poi_to_this_person'])\n",
    "        poi_to = float(data_dict[key]['from_this_person_to_poi'])        \n",
    "        poi_sh= float(data_dict[key]['shared_receipt_with_poi'])        \n",
    "        total_to = float(data_dict[key]['to_messages'])    \n",
    "        total_frm= float(data_dict[key]['from_messages'])    \n",
    "        poi_tot = poi_to+poi_fr+poi_sh\n",
    "        if total_to!= 0:\n",
    "            data_dict[key]['to_ratio'] = np.log(poi_to/total_to + 1)\n",
    "        if total_frm!= 0:\n",
    "            data_dict[key]['from_ratio'] = np.log(poi_fr/total_frm + 1)\n",
    "            data_dict[key]['to_mail_ratio'] = np.log(total_to/(total_to+total_frm) + 1)\n",
    "            \n",
    "        if poi_tot!= 0:\n",
    "            data_dict[key]['to_poi_ratio'] =  np.log(poi_to/(poi_to+poi_fr+poi_sh) + 1)\n",
    "            data_dict[key]['from_poi_ratio'] = np.log(poi_fr/(total_to+total_frm) + 1)\n",
    "            \n",
    "features_list.append('log_salary')\n",
    "features_list.append('log_total')\n",
    "features_list.append('log_bonus')\n",
    "features_list.append('log_restricted')\n",
    "features_list.append('log_other')\n",
    "features_list.append('log_exercised_stock_options')\n",
    "features_list.append('log_long_term_incentive')\n",
    "features_list.append('log_total_stock_value')\n",
    "features_list.append('log_expense')\n",
    "\n",
    "n_fin = len(features_list)-1\n",
    "features_list.append('to_ratio') # Total to poi divided by total to messages\n",
    "features_list.append('from_ratio') # Total to poi divided by total to messages\n",
    "features_list.append('to_poi_ratio') # Total mails to POI divided by total interaction with poi.\n",
    "features_list.append('from_poi_ratio') # Total from to total messages\n",
    "features_list.append('to_mail_ratio') # Number of to mails divided by total mails"
   ]
  },
  {
   "cell_type": "code",
   "execution_count": null,
   "metadata": {
    "collapsed": false
   },
   "outputs": [],
   "source": []
  },
  {
   "cell_type": "code",
   "execution_count": 8,
   "metadata": {
    "collapsed": false
   },
   "outputs": [
    {
     "name": "stdout",
     "output_type": "stream",
     "text": [
      "total_people : 94\n",
      "POIs count: 17\n"
     ]
    }
   ],
   "source": [
    "print 'total_people :', len(data_dict.keys())\n",
    "poi_count = [k for k,v in data_dict.items()if v['poi']==1]\n",
    "print 'POIs count:' ,len(poi_count) "
   ]
  },
  {
   "cell_type": "code",
   "execution_count": 9,
   "metadata": {
    "collapsed": false
   },
   "outputs": [],
   "source": [
    "my_dataset = data_dict\n",
    "### Extract features and labels from dataset for local testing\n",
    "data = featureFormat(my_dataset, features_list, sort_keys = True)\n",
    "labels, features = targetFeatureSplit(data)"
   ]
  },
  {
   "cell_type": "markdown",
   "metadata": {
    "collapsed": false
   },
   "source": [
    "#### Email features\n",
    "I plot individual financial features. As expected, the financial features seem correlated. I will therefore use PCA to reduce the dimensionality of system."
   ]
  },
  {
   "cell_type": "code",
   "execution_count": 10,
   "metadata": {
    "collapsed": false
   },
   "outputs": [
    {
     "data": {
      "image/png": "[encoded data removed]",
      "text/plain": [
       "<matplotlib.figure.Figure at 0x11473aed0>"
      ]
     },
     "metadata": {},
     "output_type": "display_data"
    },
    {
     "data": {
      "image/png": "[encoded data removed]",
      "text/plain": [
       "<matplotlib.figure.Figure at 0x1158b13d0>"
      ]
     },
     "metadata": {},
     "output_type": "display_data"
    }
   ],
   "source": [
    "X = features\n",
    "matplotlib.pyplot.figure(figsize=(15,10))\n",
    "ax1 = subplot(2,2,1)\n",
    "plot_data(labels, X, 0,1,'log salary','log bonus')\n",
    "ax2 = subplot(2,2,2)\n",
    "plot_data(labels, X, 0,2,'log salary','log total_payments')\n",
    "ax3 = subplot(2,2,3)\n",
    "plot_data(labels, X, 0,3,'log salary','log restricted_stock')\n",
    "ax4 = subplot(2,2,4)\n",
    "plot_data(labels, X, 0,4,'log salary','log other')\n",
    "\n",
    "matplotlib.pyplot.show()\n",
    "\n",
    "matplotlib.pyplot.figure(figsize=(15,10))\n",
    "ax1 = subplot(2,2,1)\n",
    "plot_data(labels, X, 0,5,'log salary','log_exercised_stock_options')\n",
    "ax2 = subplot(2,2,2)\n",
    "plot_data(labels, X, 0,6,'log salary','log_long_term_incentive')\n",
    "ax3 = subplot(2,2,3)\n",
    "plot_data(labels, X, 0,7,'log salary','log_total_stock_value')\n",
    "ax4 = subplot(2,2,4)\n",
    "plot_data(labels, X, 0,8,'log salary','log_expense')\n",
    "\n",
    "matplotlib.pyplot.show()\n",
    "\n"
   ]
  },
  {
   "cell_type": "markdown",
   "metadata": {},
   "source": [
    "I computed PCA for financial data. I chose first 3 principal components because these represented 70% of variance in data. Plots of principal components show that this transformation results in close clustering of POI data (points in red). "
   ]
  },
  {
   "cell_type": "code",
   "execution_count": 11,
   "metadata": {
    "collapsed": false
   },
   "outputs": [
    {
     "name": "stdout",
     "output_type": "stream",
     "text": [
      "Variance explained by 3 PCs :  0.690348975237\n"
     ]
    },
    {
     "data": {
      "image/png": "[encoded data removed]",
      "text/plain": [
       "<matplotlib.figure.Figure at 0x11473a210>"
      ]
     },
     "metadata": {},
     "output_type": "display_data"
    },
    {
     "name": "stdout",
     "output_type": "stream",
     "text": [
      "RandomizedPCA(copy=True, iterated_power=3, n_components=3, random_state=None,\n",
      "       whiten=True)\n"
     ]
    }
   ],
   "source": [
    "features = np.array(features)\n",
    "\n",
    "features_fin = features[:,range(0,n_fin)]\n",
    "pca_fin, features_fin_pc = features_pca(features_fin,3)\n",
    "\n",
    "labels_array = np.array(labels)\n",
    "\n",
    "print 'Variance explained by 3 PCs : ', sum(pca_fin.explained_variance_ratio_)\n",
    "\n",
    "\n",
    "matplotlib.pyplot.figure(figsize=(15,10))\n",
    "\n",
    "ax1 = subplot(2,2,1)\n",
    "plot_data(labels, features_fin_pc, 0,1,'PC-1','PC-2')\n",
    "ax1 = subplot(2,2,2)\n",
    "plot_data(labels, features_fin_pc, 0,2,'PC-1','PC-3')\n",
    "ax1 = subplot(2,2,3)\n",
    "plot_data(labels, features_fin_pc, 1,2,'PC-2','PC-3')\n",
    "\n",
    "matplotlib.pyplot.show()\n",
    "\n",
    "features = np.concatenate((features,features_fin), axis=1) \n",
    "print pca_fin"
   ]
  },
  {
   "cell_type": "code",
   "execution_count": 12,
   "metadata": {
    "collapsed": true
   },
   "outputs": [],
   "source": [
    "my_dataset\n",
    "i_count = 0\n",
    "for key in my_dataset:\n",
    "    \n",
    "    my_dataset[key]['PC1_fin'] = features_fin_pc[i_count][0]\n",
    "    my_dataset[key]['PC2_fin'] = features_fin_pc[i_count][1]\n",
    "    my_dataset[key]['PC3_fin'] = features_fin_pc[i_count][2]\n",
    "    i_count+=1\n"
   ]
  },
  {
   "cell_type": "markdown",
   "metadata": {
    "collapsed": false,
    "scrolled": false
   },
   "source": [
    "#### Email features\n",
    "\n",
    "I next plotted email features. Plots indicate that log(to_POI/total_POI) and log(frm_POI/total_POI) do not provide any additional information. log(to_POI/total_POI) and log(to_poi/total_to) show similar variations, and log(to_poi/total_to) and log(frm_POI/total_POI) show similar variations. I therefore use SelectKbest features to select 3 best features. "
   ]
  },
  {
   "cell_type": "code",
   "execution_count": 13,
   "metadata": {
    "collapsed": false
   },
   "outputs": [
    {
     "data": {
      "image/png": "[encoded data removed]",
      "text/plain": [
       "<matplotlib.figure.Figure at 0x11473a7d0>"
      ]
     },
     "metadata": {},
     "output_type": "display_data"
    }
   ],
   "source": [
    "X = features\n",
    "matplotlib.pyplot.figure(figsize=(15,10))\n",
    "ax1 = subplot(2,2,1)\n",
    "plot_data(labels, X, 9,10,'log(to_poi/total_to)','log(from_poi/total_to)')\n",
    "ax2 = subplot(2,2,2)\n",
    "plot_data(labels, X, 9,11,'log(to_poi/total_to)','log(to_POI/total_POI)')\n",
    "ax3 = subplot(2,2,3)\n",
    "plot_data(labels, X, 9,12,'log(to_poi/total_to)','log(frm_POI/total_POI)')\n",
    "ax4 = subplot(2,2,4)\n",
    "plot_data(labels, X, 9,13,'log(to_poi/total_to)','log(to_msg/total_msg)')\n",
    "matplotlib.pyplot.show()"
   ]
  },
  {
   "cell_type": "markdown",
   "metadata": {},
   "source": [
    "I used selectKbest to get important features. The 3 best emal features were, 'log(to_poi/total_to)','log(from_poi/total_to)' and 'log(to_msg/total_msg)'."
   ]
  },
  {
   "cell_type": "code",
   "execution_count": 14,
   "metadata": {
    "collapsed": false
   },
   "outputs": [
    {
     "name": "stdout",
     "output_type": "stream",
     "text": [
      "[ 0.02215119  0.02118628  0.04190107  0.00917886  0.4506644 ]\n",
      "[ 0.02215119  0.02118628  0.4506644 ]\n"
     ]
    }
   ],
   "source": [
    "features_eml = np.array(X[:,range(n_fin,len(features_list)-1)])\n",
    "print features_eml[0]\n",
    "ch2 = SelectKBest(chi2, k=3)\n",
    "X_eml = ch2.fit_transform(features_eml, labels)\n",
    "print X_eml[0]"
   ]
  },
  {
   "cell_type": "code",
   "execution_count": 15,
   "metadata": {
    "collapsed": false
   },
   "outputs": [],
   "source": [
    "features_list = ['poi','PC1_fin','PC2_fin','PC3_fin','to_ratio','from_ratio','to_mail_ratio']\n",
    "data = featureFormat(my_dataset, features_list, sort_keys = True)\n",
    "labels, features = targetFeatureSplit(data)\n",
    "X = np.array(features)\n",
    "features = np.array(features)\n",
    "n_fin = 3"
   ]
  },
  {
   "cell_type": "markdown",
   "metadata": {
    "collapsed": false,
    "scrolled": true
   },
   "source": [
    "I made a custom scoring function that maximised the minimum of precision and recall. "
   ]
  },
  {
   "cell_type": "code",
   "execution_count": 16,
   "metadata": {
    "collapsed": true
   },
   "outputs": [],
   "source": [
    "# Custom scoring function\n",
    "# Scoring function is min of precision and recall. \n",
    "# The gridsearch method tries to maximize the minimum of precision and recall. \n",
    "\n",
    "def custom_scorer(labels, predictions):\n",
    "    precision,recall = precision_recall(labels,predictions)\n",
    "    min_score = min(precision,recall)\n",
    "    return min_score\n",
    "score  = make_scorer(custom_scorer, greater_is_better=True)"
   ]
  },
  {
   "cell_type": "code",
   "execution_count": 17,
   "metadata": {
    "collapsed": false
   },
   "outputs": [],
   "source": [
    "# Test-train split for Cross validation\n",
    "sss = StratifiedShuffleSplit(labels_array, 25, test_size=0.3, random_state=42)\n"
   ]
  },
  {
   "cell_type": "markdown",
   "metadata": {},
   "source": [
    "Below I fit various models to predict POI from data. \n"
   ]
  },
  {
   "cell_type": "code",
   "execution_count": 18,
   "metadata": {
    "collapsed": false
   },
   "outputs": [
    {
     "name": "stdout",
     "output_type": "stream",
     "text": [
      "SVC(C=500, cache_size=200, class_weight='balanced', coef0=0.0,\n",
      "  decision_function_shape=None, degree=3, gamma=0.0005, kernel='rbf',\n",
      "  max_iter=-1, probability=False, random_state=None, shrinking=True,\n",
      "  tol=0.001, verbose=False)\n",
      "0.280321854616\n",
      "{'C': 500, 'gamma': 0.0005}\n"
     ]
    }
   ],
   "source": [
    "## SVC model\n",
    "param_grid = {\n",
    "         'C': [1,5,10,20,30,100,500,1000,5000],\n",
    "          'gamma': [0.0001, 0.0005, 0.001, 0.005, 0.01, 0.1],\n",
    "          }\n",
    "\n",
    "\n",
    "grid_search_SVC = GridSearchCV(SVC(kernel='rbf', class_weight='balanced'), param_grid,cv=sss,\n",
    "                       scoring=score)\n",
    "grid_search_SVC = grid_search_SVC.fit(X, labels_array)\n",
    "clf_svc = grid_search_SVC.best_estimator_\n",
    "print clf_svc\n",
    "print grid_search_SVC.best_score_\n",
    "print grid_search_SVC.best_params_"
   ]
  },
  {
   "cell_type": "code",
   "execution_count": 19,
   "metadata": {
    "collapsed": false
   },
   "outputs": [
    {
     "name": "stdout",
     "output_type": "stream",
     "text": [
      "DecisionTreeClassifier(class_weight=None, criterion='gini', max_depth=6,\n",
      "            max_features=5, max_leaf_nodes=None, min_samples_leaf=1,\n",
      "            min_samples_split=8, min_weight_fraction_leaf=0.0,\n",
      "            presort=False, random_state=42, splitter='best')\n",
      "0.278915750916\n",
      "{'max_features': 5, 'min_samples_split': 8, 'criterion': 'gini', 'max_depth': 6}\n"
     ]
    }
   ],
   "source": [
    "## Decision tree\n",
    "param_grid = {\n",
    "         'min_samples_split': [1,2 ,3,4,5,6,7,8],\n",
    "         'max_depth':[1,2,3,4,5,6],\n",
    "         'max_features':[2,3,4,5],\n",
    "         'criterion':['gini','entropy']\n",
    "        }\n",
    "DT_clf = DecisionTreeClassifier(random_state=42)\n",
    "grid_search_DT = GridSearchCV(DT_clf, param_grid,cv=sss,\n",
    "                       scoring=score)\n",
    "grid_search_DT = grid_search_DT.fit(X, labels_array)\n",
    "clf_DT = grid_search_DT.best_estimator_\n",
    "\n",
    "print clf_DT\n",
    "print grid_search_DT.best_score_\n",
    "print grid_search_DT.best_params_"
   ]
  },
  {
   "cell_type": "code",
   "execution_count": 20,
   "metadata": {
    "collapsed": false
   },
   "outputs": [
    {
     "name": "stdout",
     "output_type": "stream",
     "text": [
      "RandomForestClassifier(bootstrap=True, class_weight=None, criterion='gini',\n",
      "            max_depth=6, max_features=4, max_leaf_nodes=None,\n",
      "            min_samples_leaf=1, min_samples_split=4,\n",
      "            min_weight_fraction_leaf=0.0, n_estimators=10, n_jobs=1,\n",
      "            oob_score=False, random_state=42, verbose=0, warm_start=False)\n",
      "0.238701298701\n",
      "{'max_features': 4, 'min_samples_split': 4, 'criterion': 'gini', 'max_depth': 6}\n"
     ]
    }
   ],
   "source": [
    "## Random Forest\n",
    "param_grid = {\n",
    "         'min_samples_split': [1,2 ,3,4,5,6,7,8],\n",
    "         'max_depth':[1,2,3,4,5,6],\n",
    "         'max_features':[2,3,4,5],\n",
    "         'criterion':['gini','entropy']        \n",
    "        }\n",
    "RF_clf = RandomForestClassifier(random_state=42)\n",
    "grid_search_RF = GridSearchCV(RF_clf, param_grid,cv=sss,\n",
    "                       scoring=score)\n",
    "grid_search_RF = grid_search_RF.fit(X, labels_array)\n",
    "clf_RF = grid_search_RF.best_estimator_\n",
    "\n",
    "print clf_RF\n",
    "print grid_search_RF.best_score_\n",
    "print grid_search_RF.best_params_"
   ]
  },
  {
   "cell_type": "code",
   "execution_count": 21,
   "metadata": {
    "collapsed": false
   },
   "outputs": [
    {
     "name": "stdout",
     "output_type": "stream",
     "text": [
      "AdaBoostClassifier(algorithm='SAMME.R', base_estimator=None,\n",
      "          learning_rate=0.5, n_estimators=25, random_state=None)\n",
      "0.249857142857\n",
      "{'n_estimators': 25, 'learning_rate': 0.5}\n"
     ]
    }
   ],
   "source": [
    "## Adaptive boosting algorithm\n",
    "param_grid = {\n",
    "         'learning_rate': [.1,.2,.3,.4,.5,.6,.7,.8,.9,1.0],\n",
    "          'n_estimators': [5,10, 25,50,75,100],\n",
    "        }\n",
    "\n",
    "grid_search_ADB = GridSearchCV(AdaBoostClassifier(), param_grid,cv=sss,\n",
    "                       scoring=score)\n",
    "grid_search_ADB.fit(X, labels_array)\n",
    "clf_adb = grid_search_ADB.best_estimator_\n",
    "print clf_adb\n",
    "print grid_search_ADB.best_score_\n",
    "print grid_search_ADB.best_params_"
   ]
  },
  {
   "cell_type": "code",
   "execution_count": 22,
   "metadata": {
    "collapsed": false
   },
   "outputs": [
    {
     "name": "stdout",
     "output_type": "stream",
     "text": [
      "GaussianNB()\n"
     ]
    }
   ],
   "source": [
    "clf_NB = GaussianNB()\n",
    "clf_NB = clf_NB.fit(X,labels_array)\n",
    "print clf_NB"
   ]
  },
  {
   "cell_type": "code",
   "execution_count": 23,
   "metadata": {
    "collapsed": false
   },
   "outputs": [
    {
     "name": "stdout",
     "output_type": "stream",
     "text": [
      "KMeans(copy_x=True, init='k-means++', max_iter=300, n_clusters=9, n_init=10,\n",
      "    n_jobs=1, precompute_distances='auto', random_state=42, tol=0.0001,\n",
      "    verbose=0)\n",
      "0.220222222222\n",
      "{'n_clusters': 9}\n"
     ]
    }
   ],
   "source": [
    "param_grid = {\n",
    "          'n_clusters': [4,5,6,7,8,9],\n",
    "        }\n",
    "\n",
    "grid_search_KM = GridSearchCV(KMeans(random_state=42), param_grid,cv=sss,\n",
    "                       scoring=score)\n",
    "grid_search_KM = grid_search_KM.fit(X, labels_array)\n",
    "clf_KM = grid_search_KM.best_estimator_\n",
    "\n",
    "print clf_KM\n",
    "print grid_search_KM.best_score_\n",
    "print grid_search_KM.best_params_"
   ]
  },
  {
   "cell_type": "code",
   "execution_count": 24,
   "metadata": {
    "collapsed": true
   },
   "outputs": [],
   "source": [
    "def get_CI_mean_PrecisionRecall(X,labels_array,clf,sss):\n",
    "    precision_all = []\n",
    "    recall_all = []\n",
    "    i_count = 0\n",
    "    for train_index, test_index in sss:\n",
    "        X_train, X_test = X[train_index], X[test_index]\n",
    "        y_train, y_test = labels_array[train_index], labels_array[test_index]\n",
    "        clf = clf.fit(X_train, y_train)\n",
    "        predictions = clf.predict(X_test)\n",
    "        precision,recall = precision_recall(y_test,predictions)\n",
    "    \n",
    "        if precision!=-1:\n",
    "            i_count +=1\n",
    "            #print i_count, \"Precision:\", round(precision, 4), \" , Recall:\", round(recall, 4)\n",
    "            precision_all.append(precision)\n",
    "            recall_all.append(recall)\n",
    "    precision_all = np.array(precision_all)\n",
    "    recall_all = np.array(recall_all)\n",
    "    mean_precision = round(np.mean(precision_all), 4)\n",
    "    mean_recall = round(np.mean(recall_all), 4)\n",
    "    std_precision = round(np.std(precision_all), 4)\n",
    "    std_recall = round(np.std(recall_all), 4)\n",
    "                           \n",
    "    print \"Mean Precision:\", mean_precision, \", Mean Recall:\", mean_recall\n",
    "    print \"STD Precision:\", round(np.std(precision_all), 4), \", STD Recall:\", round(np.std(recall_all), 4)\n",
    "    CI_recall = st.t.interval(0.95, len(recall_all)-1, loc=np.mean(recall_all), scale=st.sem(recall_all))\n",
    "    CI_precision= st.t.interval(0.95, len(precision_all)-1, loc=np.mean(precision_all), scale=st.sem(precision_all))\n",
    "    print \"CI Precision:\", CI_precision\n",
    "    print \"CI_recall:\", CI_recall\n",
    "    \n",
    "    return mean_recall, mean_precision, std_recall, std_precision,CI_recall,CI_precision"
   ]
  },
  {
   "cell_type": "code",
   "execution_count": 25,
   "metadata": {
    "collapsed": false
   },
   "outputs": [
    {
     "name": "stdout",
     "output_type": "stream",
     "text": [
      "\n",
      "SVC\n",
      "Mean Precision: 0.3313 , Mean Recall: 0.597\n",
      "STD Precision: 0.2145 , STD Recall: 0.3355\n",
      "CI Precision: (0.31795815336383298, 0.34459105298537335)\n",
      "CI_recall: (0.57616739046352095, 0.617832609536479)\n",
      "SVC(C=500, cache_size=200, class_weight='balanced', coef0=0.0,\n",
      "  decision_function_shape=None, degree=3, gamma=0.0005, kernel='rbf',\n",
      "  max_iter=-1, probability=False, random_state=None, shrinking=True,\n",
      "  tol=0.001, verbose=False)\n",
      "\n",
      "DecisionTree\n",
      "Mean Precision: 0.3465 , Mean Recall: 0.2875\n",
      "STD Precision: 0.4027 , STD Recall: 0.31\n",
      "CI Precision: (0.32151257644270781, 0.37152075689062547)\n",
      "CI_recall: (0.26825404762939492, 0.30674595237060504)\n",
      "DecisionTreeClassifier(class_weight=None, criterion='gini', max_depth=6,\n",
      "            max_features=5, max_leaf_nodes=None, min_samples_leaf=1,\n",
      "            min_samples_split=8, min_weight_fraction_leaf=0.0,\n",
      "            presort=False, random_state=42, splitter='best')\n",
      "\n",
      "Adaptive Boosting\n",
      "Mean Precision: 0.2297 , Mean Recall: 0.1585\n",
      "STD Precision: 0.382 , STD Recall: 0.2513\n",
      "CI Precision: (0.20596877994209145, 0.25339788672457514)\n",
      "CI_recall: (0.14290081204172803, 0.17409918795827198)\n",
      "AdaBoostClassifier(algorithm='SAMME.R', base_estimator=None,\n",
      "          learning_rate=0.5, n_estimators=25, random_state=None)\n",
      "\n",
      "Naive Bayes\n",
      "Mean Precision: 0.1311 , Mean Recall: 0.0995\n",
      "STD Precision: 0.2911 , STD Recall: 0.1996\n",
      "CI Precision: (0.1130774143913917, 0.14922258560860829)\n",
      "CI_recall: (0.087106195640873157, 0.11189380435912685)\n",
      "GaussianNB()\n",
      "\n",
      "K-Means\n",
      "Mean Precision: 0.1285 , Mean Recall: 0.211\n",
      "STD Precision: 0.2798 , STD Recall: 0.4\n",
      "CI Precision: (0.11115491177985254, 0.14589270726776649)\n",
      "CI_recall: (0.18616733529430418, 0.2358326647056958)\n",
      "KMeans(copy_x=True, init='k-means++', max_iter=300, n_clusters=9, n_init=10,\n",
      "    n_jobs=1, precompute_distances='auto', random_state=42, tol=0.0001,\n",
      "    verbose=0)\n",
      "\n",
      "Random Forest\n",
      "Mean Precision: 0.2144 , Mean Recall: 0.1555\n",
      "STD Precision: 0.367 , STD Recall: 0.2521\n",
      "CI Precision: (0.19158584380134805, 0.2371522514367472)\n",
      "CI_recall: (0.13984629707576393, 0.17115370292423607)\n",
      "RandomForestClassifier(bootstrap=True, class_weight=None, criterion='gini',\n",
      "            max_depth=6, max_features=4, max_leaf_nodes=None,\n",
      "            min_samples_leaf=1, min_samples_split=4,\n",
      "            min_weight_fraction_leaf=0.0, n_estimators=10, n_jobs=1,\n",
      "            oob_score=False, random_state=42, verbose=0, warm_start=False)\n"
     ]
    }
   ],
   "source": [
    "clf_all = [clf_svc, clf_DT, clf_adb, clf_NB, clf_KM, clf_RF]\n",
    "Model_names = ['SVC', 'DecisionTree', 'Adaptive Boosting', 'Naive Bayes', 'K-Means','Random Forest']\n",
    "X = np.array(X)\n",
    "\n",
    "ind_mod = 0\n",
    "for clf in clf_all:\n",
    "    print ''\n",
    "    print Model_names[ind_mod]\n",
    "    ind_mod +=1\n",
    "    sss = StratifiedShuffleSplit(labels_array, 1000, test_size=0.1, random_state=42)\n",
    "    get_CI_mean_PrecisionRecall(X,labels_array,clf,sss)\n",
    "    print clf"
   ]
  },
  {
   "cell_type": "markdown",
   "metadata": {
    "collapsed": false
   },
   "source": [
    "Previous analysis shows that SVC is the best model. I therefore conducted finer search for parameters of SVC. This resulted in model parameters 'C': 150, 'gamma': 0.005.  "
   ]
  },
  {
   "cell_type": "code",
   "execution_count": 26,
   "metadata": {
    "collapsed": false
   },
   "outputs": [
    {
     "name": "stdout",
     "output_type": "stream",
     "text": [
      "SVC(C=150, cache_size=200, class_weight='balanced', coef0=0.0,\n",
      "  decision_function_shape=None, degree=3, gamma=0.005, kernel='rbf',\n",
      "  max_iter=-1, probability=False, random_state=None, shrinking=True,\n",
      "  tol=0.001, verbose=False)\n",
      "0.366479365079\n",
      "{'C': 150, 'gamma': 0.005}\n"
     ]
    }
   ],
   "source": [
    "## Final SVC model\n",
    "sss = StratifiedShuffleSplit(labels_array, 1000, test_size=0.1, random_state=42)\n",
    "param_grid = {\n",
    "         'C': [1,5,10,20,30,150,400,500,600,700],\n",
    "          'gamma': [0.005, 0.01, 0.02,0.03,0.04,0.05,0.06,0.07,0.08,0.09],\n",
    "          }\n",
    "\n",
    "\n",
    "grid_search_SVC = GridSearchCV(SVC(kernel='rbf', class_weight='balanced'), param_grid,cv=sss,\n",
    "                       scoring=score)\n",
    "grid_search_SVC = grid_search_SVC.fit(X, labels_array)\n",
    "clf_svc = grid_search_SVC.best_estimator_\n",
    "print clf_svc\n",
    "print grid_search_SVC.best_score_\n",
    "print grid_search_SVC.best_params_"
   ]
  },
  {
   "cell_type": "code",
   "execution_count": 27,
   "metadata": {
    "collapsed": false
   },
   "outputs": [
    {
     "name": "stdout",
     "output_type": "stream",
     "text": [
      "Mean Precision: 0.3745 , Mean Recall: 0.6715\n",
      "STD Precision: 0.2224 , STD Recall: 0.3367\n",
      "CI Precision: (0.36066884931507276, 0.38828988084365729)\n",
      "CI_recall: (0.65059841940162577, 0.6924015805983742)\n",
      "SVC(C=150, cache_size=200, class_weight='balanced', coef0=0.0,\n",
      "  decision_function_shape=None, degree=3, gamma=0.005, kernel='rbf',\n",
      "  max_iter=-1, probability=False, random_state=None, shrinking=True,\n",
      "  tol=0.001, verbose=False)\n"
     ]
    }
   ],
   "source": [
    "sss = StratifiedShuffleSplit(labels_array, 1000, test_size=0.1, random_state=42)\n",
    "get_CI_mean_PrecisionRecall(X,labels_array,clf_svc,sss)\n",
    "print clf_svc"
   ]
  },
  {
   "cell_type": "markdown",
   "metadata": {},
   "source": [
    "In previous steps, PCA was conducted on whole data, and then split principal components were split into training and testing features for model fitting. In this case, there may be leakage of information because principal components are computed using the entire data, therefore training data set may have some information regarding the testing data set. "
   ]
  },
  {
   "cell_type": "code",
   "execution_count": 33,
   "metadata": {
    "collapsed": false,
    "scrolled": true
   },
   "outputs": [
    {
     "name": "stdout",
     "output_type": "stream",
     "text": [
      "\n",
      "Model Parameters:\n",
      "{'clf': SVC(C=5, cache_size=200, class_weight='balanced', coef0=0.0,\n",
      "  decision_function_shape=None, degree=3, gamma=0.01, kernel='rbf',\n",
      "  max_iter=-1, probability=False, random_state=None, shrinking=True,\n",
      "  tol=0.001, verbose=False),\n",
      " 'clf__C': 5,\n",
      " 'clf__cache_size': 200,\n",
      " 'clf__class_weight': 'balanced',\n",
      " 'clf__coef0': 0.0,\n",
      " 'clf__decision_function_shape': None,\n",
      " 'clf__degree': 3,\n",
      " 'clf__gamma': 0.01,\n",
      " 'clf__kernel': 'rbf',\n",
      " 'clf__max_iter': -1,\n",
      " 'clf__probability': False,\n",
      " 'clf__random_state': None,\n",
      " 'clf__shrinking': True,\n",
      " 'clf__tol': 0.001,\n",
      " 'clf__verbose': False,\n",
      " 'features': FeatureUnion(n_jobs=1,\n",
      "       transformer_list=[('PC_fin', Pipeline(steps=[('extract_fin', FunctionTransformer(accept_sparse=False,\n",
      "          func=<function <lambda> at 0x114481410>, pass_y=False,\n",
      "          validate=True)), ('scale_fin', MinMaxScaler(copy=True, feature_range=(0, 1))), ('PCA', PCA(copy=True, n_components=3, white...       validate=True)), ('SelectK', SelectKBest(k=2, score_func=<function chi2 at 0x11183bb90>))]))],\n",
      "       transformer_weights=None),\n",
      " 'features__Eml': Pipeline(steps=[('extract', FunctionTransformer(accept_sparse=False,\n",
      "          func=<function <lambda> at 0x114481488>, pass_y=False,\n",
      "          validate=True)), ('SelectK', SelectKBest(k=2, score_func=<function chi2 at 0x11183bb90>))]),\n",
      " 'features__Eml__SelectK': SelectKBest(k=2, score_func=<function chi2 at 0x11183bb90>),\n",
      " 'features__Eml__SelectK__k': 2,\n",
      " 'features__Eml__SelectK__score_func': <function chi2 at 0x11183bb90>,\n",
      " 'features__Eml__extract': FunctionTransformer(accept_sparse=False,\n",
      "          func=<function <lambda> at 0x114481488>, pass_y=False,\n",
      "          validate=True),\n",
      " 'features__Eml__extract__accept_sparse': False,\n",
      " 'features__Eml__extract__func': <function <lambda> at 0x114481488>,\n",
      " 'features__Eml__extract__pass_y': False,\n",
      " 'features__Eml__extract__validate': True,\n",
      " 'features__Eml__steps': [('extract',\n",
      "                           FunctionTransformer(accept_sparse=False,\n",
      "          func=<function <lambda> at 0x114481488>, pass_y=False,\n",
      "          validate=True)),\n",
      "                          ('SelectK',\n",
      "                           SelectKBest(k=2, score_func=<function chi2 at 0x11183bb90>))],\n",
      " 'features__PC_fin': Pipeline(steps=[('extract_fin', FunctionTransformer(accept_sparse=False,\n",
      "          func=<function <lambda> at 0x114481410>, pass_y=False,\n",
      "          validate=True)), ('scale_fin', MinMaxScaler(copy=True, feature_range=(0, 1))), ('PCA', PCA(copy=True, n_components=3, whiten=False))]),\n",
      " 'features__PC_fin__PCA': PCA(copy=True, n_components=3, whiten=False),\n",
      " 'features__PC_fin__PCA__copy': True,\n",
      " 'features__PC_fin__PCA__n_components': 3,\n",
      " 'features__PC_fin__PCA__whiten': False,\n",
      " 'features__PC_fin__extract_fin': FunctionTransformer(accept_sparse=False,\n",
      "          func=<function <lambda> at 0x114481410>, pass_y=False,\n",
      "          validate=True),\n",
      " 'features__PC_fin__extract_fin__accept_sparse': False,\n",
      " 'features__PC_fin__extract_fin__func': <function <lambda> at 0x114481410>,\n",
      " 'features__PC_fin__extract_fin__pass_y': False,\n",
      " 'features__PC_fin__extract_fin__validate': True,\n",
      " 'features__PC_fin__scale_fin': MinMaxScaler(copy=True, feature_range=(0, 1)),\n",
      " 'features__PC_fin__scale_fin__copy': True,\n",
      " 'features__PC_fin__scale_fin__feature_range': (0, 1),\n",
      " 'features__PC_fin__steps': [('extract_fin',\n",
      "                              FunctionTransformer(accept_sparse=False,\n",
      "          func=<function <lambda> at 0x114481410>, pass_y=False,\n",
      "          validate=True)),\n",
      "                             ('scale_fin',\n",
      "                              MinMaxScaler(copy=True, feature_range=(0, 1))),\n",
      "                             ('PCA',\n",
      "                              PCA(copy=True, n_components=3, whiten=False))],\n",
      " 'features__n_jobs': 1,\n",
      " 'features__transformer_list': [('PC_fin',\n",
      "                                 Pipeline(steps=[('extract_fin', FunctionTransformer(accept_sparse=False,\n",
      "          func=<function <lambda> at 0x114481410>, pass_y=False,\n",
      "          validate=True)), ('scale_fin', MinMaxScaler(copy=True, feature_range=(0, 1))), ('PCA', PCA(copy=True, n_components=3, whiten=False))])),\n",
      "                                ('Eml',\n",
      "                                 Pipeline(steps=[('extract', FunctionTransformer(accept_sparse=False,\n",
      "          func=<function <lambda> at 0x114481488>, pass_y=False,\n",
      "          validate=True)), ('SelectK', SelectKBest(k=2, score_func=<function chi2 at 0x11183bb90>))]))],\n",
      " 'features__transformer_weights': None,\n",
      " 'steps': [('features',\n",
      "            FeatureUnion(n_jobs=1,\n",
      "       transformer_list=[('PC_fin', Pipeline(steps=[('extract_fin', FunctionTransformer(accept_sparse=False,\n",
      "          func=<function <lambda> at 0x114481410>, pass_y=False,\n",
      "          validate=True)), ('scale_fin', MinMaxScaler(copy=True, feature_range=(0, 1))), ('PCA', PCA(copy=True, n_components=3, white...       validate=True)), ('SelectK', SelectKBest(k=2, score_func=<function chi2 at 0x11183bb90>))]))],\n",
      "       transformer_weights=None)),\n",
      "           ('clf',\n",
      "            SVC(C=5, cache_size=200, class_weight='balanced', coef0=0.0,\n",
      "  decision_function_shape=None, degree=3, gamma=0.01, kernel='rbf',\n",
      "  max_iter=-1, probability=False, random_state=None, shrinking=True,\n",
      "  tol=0.001, verbose=False))]}\n"
     ]
    }
   ],
   "source": [
    "sss = StratifiedShuffleSplit(labels_array, 25, test_size=0.1, random_state=42)\n",
    "features_list = ['poi','log_salary','log_total','log_bonus','log_restricted',\n",
    "                 'log_other','log_exercised_stock_options','log_long_term_incentive',\n",
    "                'log_total_stock_value','log_expense']\n",
    "n_fin = len(features_list)-1\n",
    "features_list.append('to_ratio') # Total to poi divided by total to messages\n",
    "features_list.append('from_ratio') # Total to poi divided by total to messages\n",
    "features_list.append('to_poi_ratio') # Total mails to POI divided by total interaction with poi.\n",
    "features_list.append('from_poi_ratio') # Total from to total messages\n",
    "features_list.append('to_mail_ratio') # Number of to mails divided by total mails\n",
    "\n",
    "data = featureFormat(my_dataset, features_list, sort_keys = True)\n",
    "labels, features = targetFeatureSplit(data)\n",
    "\n",
    "\n",
    "param_grid = {\n",
    "         'clf__C': [1,5,10,50,100,150,400,500,600,1e3],\n",
    "          'clf__gamma': [0.005, 0.01, 0.02,0.03,0.04],\n",
    "          'features__PC_fin__PCA__n_components':[2,3,4,5,6,7,8],\n",
    "          'features__Eml__SelectK__k':[2,3,4]  \n",
    "          }\n",
    "\n",
    "\n",
    "\n",
    "pipeline_SVC = Pipeline([\n",
    "    ('features', FeatureUnion([\n",
    "        ('PC_fin', Pipeline([\n",
    "            ('extract_fin', FunctionTransformer(lambda X: X[:, range(0,9)])),\n",
    "            ('scale_fin', MinMaxScaler()),\n",
    "            ('PCA',   PCA()),\n",
    "        ])),\n",
    "        ('Eml', Pipeline([\n",
    "            ('extract', FunctionTransformer(lambda X: X[:, range(9,14)])),\n",
    "            ('SelectK', SelectKBest(chi2)),\n",
    "        ]))            \n",
    "                    \n",
    "    ])),\n",
    "    ('clf', SVC(kernel='rbf', class_weight='balanced'))\n",
    "])\n",
    "\n",
    "                       \n",
    "gridCV_object = GridSearchCV(estimator = pipeline_SVC, \n",
    "                                         param_grid = param_grid, \n",
    "                                         cv = sss,scoring=score\n",
    "                                        )\n",
    "\n",
    "#print gridCV_object.get_params().keys()\n",
    "gridCV_object.fit(features,labels)\n",
    "clf = gridCV_object.best_estimator_\n",
    "print \"\\nModel Parameters:\"\n",
    "pprint(clf.get_params())\n"
   ]
  },
  {
   "cell_type": "code",
   "execution_count": 29,
   "metadata": {
    "collapsed": false
   },
   "outputs": [
    {
     "name": "stdout",
     "output_type": "stream",
     "text": [
      "Mean Precision: 0.5043 , Mean Recall: 0.569\n",
      "STD Precision: 0.3322 , STD Recall: 0.346\n",
      "CI Precision: (0.4837104304080187, 0.52495623625864818)\n",
      "CI_recall: (0.54751627180490936, 0.59048372819509054)\n"
     ]
    },
    {
     "data": {
      "text/plain": [
       "(0.569,\n",
       " 0.5043,\n",
       " 0.346,\n",
       " 0.3322,\n",
       " (0.54751627180490936, 0.59048372819509054),\n",
       " (0.4837104304080187, 0.52495623625864818))"
      ]
     },
     "execution_count": 29,
     "metadata": {},
     "output_type": "execute_result"
    }
   ],
   "source": [
    "sss = StratifiedShuffleSplit(labels_array, 1000, test_size=0.1, random_state=42)\n",
    "get_CI_mean_PrecisionRecall(np.array(features),labels_array,clf,sss)"
   ]
  },
  {
   "cell_type": "code",
   "execution_count": 30,
   "metadata": {
    "collapsed": false
   },
   "outputs": [],
   "source": [
    "from pprint import pprint\n"
   ]
  },
  {
   "cell_type": "code",
   "execution_count": null,
   "metadata": {
    "collapsed": false
   },
   "outputs": [],
   "source": [
    "\n"
   ]
  },
  {
   "cell_type": "code",
   "execution_count": null,
   "metadata": {
    "collapsed": false
   },
   "outputs": [],
   "source": []
  },
  {
   "cell_type": "markdown",
   "metadata": {
    "collapsed": false
   },
   "source": [
    "Final model"
   ]
  },
  {
   "cell_type": "code",
   "execution_count": 38,
   "metadata": {
    "collapsed": true
   },
   "outputs": [],
   "source": [
    "import dill\n",
    "dump_classifier_and_data(clf, my_dataset, features_list)"
   ]
  },
  {
   "cell_type": "code",
   "execution_count": 39,
   "metadata": {
    "collapsed": false
   },
   "outputs": [
    {
     "name": "stdout",
     "output_type": "stream",
     "text": [
      "precision,recall =  0.486740804106 0.569\n",
      "\tAccuracy: 0.79380\tPrecision: 0.48674\tRecall: 0.56900\tF1: 0.52467\tF2: 0.55040\n",
      "\tTotal predictions: 10000\tTrue positives: 1138\tFalse positives: 1200\tFalse negatives:  862\tTrue negatives: 6800\n",
      "\n"
     ]
    }
   ],
   "source": [
    "\n",
    "test_classifier(clf,my_dataset,features_list,folds = 1000)"
   ]
  },
  {
   "cell_type": "code",
   "execution_count": null,
   "metadata": {
    "collapsed": true
   },
   "outputs": [],
   "source": []
  }
 ],
 "metadata": {
  "kernelspec": {
   "display_name": "Python 2",
   "language": "python",
   "name": "python2"
  },
  "language_info": {
   "codemirror_mode": {
    "name": "ipython",
    "version": 2
   },
   "file_extension": ".py",
   "mimetype": "text/x-python",
   "name": "python",
   "nbconvert_exporter": "python",
   "pygments_lexer": "ipython2",
   "version": "2.7.11"
  }
 },
 "nbformat": 4,
 "nbformat_minor": 0
}
