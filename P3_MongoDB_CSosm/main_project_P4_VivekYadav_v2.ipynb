{
 "cells": [
  {
   "cell_type": "markdown",
   "metadata": {},
   "source": [
    "##OpenStreetMap Sample Project Data Wrangling with MongoDB\n",
    "####Vivek Yadav\n",
    "\n",
    "###Overview\n",
    "\n",
    "As Colorado Springs, CO is my favorite city, I downloaded the map of Colorado Springs. Data was downloaded from the predownloaded OSM-XML files on the mapzen website. \n",
    "\n",
    "Data Sources:\n",
    "1. https://mapzen.com/data/metro-extracts\n",
    "2. https://s3.amazonaws.com/metro-extracts.mapzen.com/colorado-springs_colorado.osm.bz2\n",
    "\n",
    "The unzipped data was 108.9 MB. \n",
    "\n",
    "\n",
    "### Problems Encountered in the Map\n",
    "\n",
    "After downloading the data, the following main issues were identified:\n",
    "1. Over-abbreviated street names (“S Union Blvd-->South Union Boulevard”). This issue was fixed using an audit function where street type was corrected by checking against possible abbreviations.\n",
    "2. Inconsistent entry of street name. In some cases, the street names included part of address, for example, suite number in address. North Nevada Avenue Ste 130'. For 5 such entries, the data were manually corrected.\n",
    "3. Missing city names, few entries did not have a city name entry. In cases where city names were missing, zipcode package in python was used to get city information from postal code if it existed.\n",
    "3. Inconsistent postal codes. Postal codes are 5 digit long, and in Colorado springs area, begin with an 8. Only 2 entries were found where postal codes didnt conform to this rule, and they were updated manually.\n",
    "4. Missing Postal codes, few entries did not have postal code entry. In this case, if the street name and city name existed, geopy package in python was used to get postal codes.\n",
    "5. Incosistent city naming. In colorado springs, some regions like US Air Force Academy, Fort Carson, Security-Widefield etc use their own names as city names. Although these regions lie within Colorado Springs area. \n",
    "\n",
    "\n",
    "### Cleaning and updating addresses\n",
    "\n",
    "#### Cleaning street names. \n",
    "Python functions were written to audit and clean street names and postal codes. A list of expected street names was created, and 'audit' function was used to identify the streets that did not have the expected names. \n",
    "expected = [\"Street\", \"Avenue\", \"Boulevard\", \"Drive\", \"Court\", \"Lane\", \"Road\", \n",
    "            \"Parkway\", \"Commons\",\"Circle\",\"Alley\",\"Way\",\"View\",\"Place\", \"Square\",\"Trail\"]\n",
    "            \n",
    "After first run, there were around 100 street names whose type was not in expected. Many streets were named using acronyms for the full street type name. For example, Road was labeled at Rd or Rd. Therefore, a mapping dictionary was created to map the short from of the street types used by the user and the full name of the street type.\n",
    "Further, street types like \"Point\", \"Loop\" and \"Terrace\" were not included in list of expected names. Google search showed that these street types are used to label streets in Colorado Springs. So these street types were added to the list of expected types. Next, a 'update_name' function was used replace short forms with the full name. Further, some streets were labeled by direction, for example S Union Blvd or Union Blvd S. These street names were updated, the update_name command changed the names as follows, \n",
    "\n",
    "1. Union Blvd-->Union Boulevard\n",
    "2. S Union Blvd-->South Union Boulevard\n",
    "3. Union Blvd S-->South Union Boulevard\n",
    "4. S. Union Blvd-->South Union Boulevard\n",
    "5. Union Blvd S.-->South Union Boulevard\n",
    "\n",
    "\n",
    "The street types that were not found in either expected or short forms were collected in a python dictionary. \n",
    "\n",
    "Close examination revealed that 5 streets were not classified into any of the street types. These 5 are listed below. These reveal that \n",
    "1. '130': {'North Nevada Avenue Ste 130'},\n",
    "2. '80829': {'El Paso Blvd, Manitou Springs, CO 80829'},\n",
    "3. '80919': {'230 Point of the Pines Drive  Colorado Springs, CO 80919'},\n",
    "4. 'CO': {'1 Lake Avenue  Colorado Springs, CO'},\n",
    "5. 'Plaza': {'S. Union Blvd, Suite 255, Printers Park Medical Plaza'}\n",
    "\n",
    "Streets 1 and 5 have Suite information in them, and streets 2-4 were entered wrongly. Therefore, these street names were manually updated after importing data in mongodb. After updating in MongoDb, there were 2 streets that did not have the street type idenfitied correctly. These streets were left unchanged in the mongodb database. \n",
    "1. '130': {'North Nevada Avenue Ste 130'},\n",
    "2. 'Plaza': {'S. Union Blvd, Suite 255, Printers Park Medical Plaza'}\n",
    "\n",
    "\n",
    "#### Checking zip codes.\n",
    "It may be possible that zipcodes are entered wrongly by the users, so the following checks were performed. \n",
    "1. First the length of postcode entry was checked. Postal code in Coloraro Springs are should be 5 digits. So first step was to check for the length of zipcode entry. Inspection revealed that 2 streets had  postal codes that were not of length 5. \n",
    "    - 2951,East Dale Street, postcode-1875. \n",
    "    - 505, East Columbia Street, Colorado springs, postcode-CO.\n",
    "\n",
    "2. Next step was to verify if all the postcodes were numeric. Therefore, str.isnumeric() command in python was used to test if the string supplied by the user for postcode is infact numeric. This inspection revealed all the entries were infact numeric. \n",
    "3. Postal codes in Colorado Springs area begin with 8, therefore, the first digit of the postal code was checked to verify if it is 8. \n",
    "\n",
    "#### Checking city names.\n",
    "It may be possible that postal codes and city names are entered wrongly by the users, so to verify if the city names correspond with the postal codes, the zipcode package was used to get city information from postal codes. After comparing city name entered by the user and results from zipcode package, the following city names did not match between user entry and check from zipcode. All the entries below were identified as Colorado Springs by the zipcode package. \n",
    "\n",
    "- 'Colorado springs',\n",
    "- 'colorado springs, CO'\n",
    "- 'Fort Carson',\n",
    "- 'Security',\n",
    "- 'Security-Widefield',\n",
    "- 'Widefield'\n",
    "\n",
    "The first 2 have formatting issue. Fort Carson is a military installation in Colorado Springs, and several addresses list this for City information. So the city information was not updated for addresses with city listed as Fort Carson. Security and Widefeld are censor designated areas in southern Colorado Springs and fall under the same area called Security-Widefield. Therefore, the area names were updated to Security-Widefield. \n",
    "\n",
    " \n",
    "####  Updating city data\n",
    "\n",
    "Many address entries did not have city information. Of the all the address records, only 7252 of the addresses did not have city information. However, 4826 of 7252 missing city entries had postal code information. Therefore, postal code information was used to identify city from the data using 'zipcode' package. It is important to note that all the addresses in Colorado Springs area have Colorado Springs as the city. Manitou Springs, Fountain, US Air Force Academy, etc are within Colorado Springs area, but are different cities. To get city information form postal code, a zipcode library was used. This library took zipcode of area as input and gave location information for the postal code.\n",
    "\n",
    "mapping_cities = { \"Colorado springs\": \"Colorado Springs\",\n",
    "            \"colorado springs, CO\": \"Colorado Springs\",\n",
    "            \"United States Air Force Academy\":\"US Air Force Academy\",\n",
    "            \"U S A F Academy\":\"US Air Force Academy\",\n",
    "            \"Security\": \"Security-Widefield\",\n",
    "            \"Widefield\": \"Security-Widefield\",\n",
    "                }\n",
    "\n",
    "####  Updating postalcode data\n",
    "There were some addresses that did not have postal code information, but had information about the street and city. In such cases, geopy package was used to get postal code from the partial address information. For example, Rockledge Lane, Colorado Springs, CO did not have the postal code information. Postal code information was obtained using geopy package, and the address was updated as: Rockledge Lane, Manitou Springs, CO 80829. 1696 addresses did not have postal code information. For these addresses, the postal codes were obtained using geopy package, and checked to confirm if the first digit started with an 8, if it did, the postal codes were updated. After updating 367 address entries did not have post code information. \n",
    "\n",
    "\n",
    "### summary of cleaning:\n",
    "Before cleaning, 15789 addresses had both city and post code information, after cleaning this number increased to 20742 of 23183. \n",
    " - Postal codes were used to get city information for 4826 address entries. \n",
    " - 1329 postal codes were obtained using geopy package.\n",
    "\n",
    "### Conclusions:\n",
    "\n",
    "After review, it is clear that the data for Colorado Springs is incomplete. I updated city names and postal code using zipcode and geopy packages. By using these techniques, the percentage of entries with street, postal code and city data increased from 68 to around 90. However, inspite of using this, there were several street names for which I could not get postal code. Following analysis steps can be used to further clean the data\n",
    "1. Compare partial address query results from multiple sources (google, yahoo, mapquest, etc) and see if one of the packages provides postal code information.\n",
    "2. I kept getting service time out error, and for these addresses google search did not provide a valid entry. For these addresses GPS data (longitude and latitude) can be used to get city and postal code information.\n",
    "3. By checking user entries with GPS location, and using auditing methods while address is entered, a cleaner data can be obtained.\n",
    "\n",
    "###Link to individual sections of code are below. \n",
    "\n",
    "1.  [Importing libraries](#import_files)\n",
    "2.  [Functions to check and update street names](#chkupdt_files)\n",
    "3.  [Loading data and checking unexpected street names](#audit_data)\n",
    "4. [Udating street types](#update_data)\n",
    "5.  [Importing data to mongodb](#import_Mdb)\n",
    "    1. [Manually updating 3 street names](#import_Mdb)\n",
    "6. [Checking and Udating city names based on postal codes](#update_city)\n",
    "    1. Checking if the city name from zipcode and city name entered by the user match.\n",
    "    2. For addresses with zip code and without city name, updating name of the city.\n",
    "7. [Updating postal codes based on street and city names.](#update_zip)\n",
    "8.  [Some interesting facts about data](#some_facts): \n",
    "       - There are total of 1653045 entries in Colorado springs data base of which 16731 are street addresses. Of these, 79 entries had street names in unexpected format. After cleaning, this number dropped to 2. \n",
    "       - Of the 1653045 entries, about 75% were by one user \"FrozenFlame22\" and 91% from the top 10 users. \n",
    "       - Among restaurants, Village Inn has the most entries with 15 followed by pizza hut at 12. \n",
    "       - The most common amenity is 'Parking'. The top 3 data uploads were for parking (5658), restaurant (639) and school (558).\n",
    "       \n"
   ]
  },
  {
   "cell_type": "markdown",
   "metadata": {},
   "source": [
    "### <a id='import_files'>Importing Libraries</a>"
   ]
  },
  {
   "cell_type": "code",
   "execution_count": 1,
   "metadata": {
    "collapsed": false
   },
   "outputs": [
    {
     "name": "stdout",
     "output_type": "stream",
     "text": [
      "Populating the interactive namespace from numpy and matplotlib\n"
     ]
    }
   ],
   "source": [
    "# Importing libraries:\n",
    "import pymongo\n",
    "import xml.etree.cElementTree as ET\n",
    "import re\n",
    "from collections import defaultdict\n",
    "import pprint\n",
    "import codecs\n",
    "import json\n",
    "import matplotlib.pyplot as plt\n",
    "import zipcode\n",
    "from geopy.geocoders import Nominatim\n",
    "geolocator = Nominatim()\n",
    "%pylab inline\n",
    "\n",
    "\n",
    "# Make sure to run mongodb in terminal\n",
    "# command: mongod --dbpath /Users/vivekyadav/mongodb\n",
    "# https://wiki.openstreetmap.org/wiki/Main_Page"
   ]
  },
  {
   "cell_type": "markdown",
   "metadata": {},
   "source": [
    "### <a id='chkupdt_files'>Functions to check and update street names. </a>\n",
    "Below are functions written to look for streets name, and check if the formatting is correct. "
   ]
  },
  {
   "cell_type": "code",
   "execution_count": 2,
   "metadata": {
    "collapsed": false
   },
   "outputs": [],
   "source": [
    "# functions \n",
    "\n",
    "# Function to count number of tags\n",
    "def count_tags(filename):\n",
    "        # YOUR CODE HERE\n",
    "        file_parse = ET.iterparse(filename)\n",
    "        tag_all_names = {}\n",
    "        for tag_name in file_parse:\n",
    "            key = tag_name[1].tag\n",
    "            d = dict(tag_all_names)\n",
    "            if key in d:\n",
    "                tag_all_names[key] = tag_all_names[key] + 1\n",
    "            else:\n",
    "                tag_all_names[key] = 1\n",
    "                \n",
    "        return tag_all_names\n",
    "    \n",
    "# Function to check if street type is in the 'expected' list.\n",
    "def audit_street_type(street_types, street_name):\n",
    "    m = street_type_re.search(street_name)\n",
    "    if m:\n",
    "        street_type = m.group()\n",
    "        if street_type not in expected:\n",
    "            street_types[street_type].add(street_name)\n",
    "\n",
    "def is_street_name(elem):\n",
    "    return (elem.attrib['k'] == \"addr:street\")\n",
    "\n",
    "# Function to update street type based on entries from a mapping function.\n",
    "def update_name(name, mapping,directions):\n",
    "    name_spl = name.split(' ')\n",
    "    if name_spl[len(name_spl)-1] in directions:\n",
    "        name = name_spl[len(name_spl)-1]\n",
    "        for i in range(1,len(name_spl)):\n",
    "            name = name + \" \" + name_spl[i-1]\n",
    "    name_spl = name.split(' ')\n",
    "    if name_spl[len(name_spl)-1] in mapping:\n",
    "        name = name.replace(name_spl[len(name_spl)-1], mapping[name_spl[len(name_spl)-1]])\n",
    "    if name_spl[0] in directions:\n",
    "        name = name.replace(name_spl[0], directions[name_spl[0]])\n",
    "        \n",
    "    return name\n",
    "\n",
    "# Function to audit map file. \n",
    "def audit(osmfile):\n",
    "    osm_file = open(osmfile, \"r\")\n",
    "    street_types = defaultdict(set)\n",
    "    for event, elem in ET.iterparse(osm_file, events=(\"start\",)):\n",
    "        if elem.tag == \"node\" or elem.tag == \"way\":\n",
    "            for tag in elem.iter(\"tag\"):\n",
    "                if is_street_name(tag):\n",
    "                    audit_street_type(street_types, tag.attrib['v'])\n",
    "    return street_types\n",
    "\n",
    "\n",
    "\n",
    "# Function to write data from OSM file into dictionary for mongodb. \n",
    "def shape_element(element):\n",
    "    st_types_not_found = defaultdict(set)\n",
    "    node = {}\n",
    "    \n",
    "    if element.tag == \"node\" or element.tag == \"way\" :\n",
    "        \n",
    "        # YOUR CODE HERE\n",
    "        nd_refs = []\n",
    "        if element.tag == 'way':\n",
    "            \n",
    "            for nd in element.iter('nd'):\n",
    "                nd_refs.append(nd.attrib['ref'])\n",
    "            node['node_refs'] = nd_refs\n",
    "            #print nd_refs\n",
    "        \n",
    "        node['id'] =  element.get('id')\n",
    "        node['type'] = element.tag\n",
    "        node['visible'] = element.get('visible')\n",
    "        node['created'] = {}\n",
    "        node['created']['version'] = element.get('version')\n",
    "        node['created']['timestamp'] = element.get('timestamp')\n",
    "        node['created']['changeset'] = element.get('changeset')\n",
    "        node['created']['user'] = element.get('user')\n",
    "        node['created']['uid'] = element.get('uid')\n",
    "        ln = eval(str(element.get('lon')))\n",
    "        lt = eval(str(element.get('lat')))\n",
    "        \n",
    "        node['pos'] = [ (lt), (ln)]\n",
    "        addr_dict = {}\n",
    "        for tag in element.iter('tag'):\n",
    "            if tag.get('k')[:4]=='addr':\n",
    "                if tag.get('k')== 'addr:street':\n",
    "                    name = tag.get('v')\n",
    "                    updated_name_street = update_name_dict(st_types,name, mapping,st_directions)\n",
    "                    if updated_name_street == 0:\n",
    "                        addr_dict['street'] = tag.get('v')\n",
    "                    else:\n",
    "                        addr_dict['street'] = updated_name_street\n",
    "                    \n",
    "                if tag.get('k')== 'addr:housenumber':\n",
    "                    addr_dict['housenumber'] = tag.get('v')\n",
    "                if tag.get('k')== 'addr:city':\n",
    "                    addr_dict['city'] = tag.get('v')\n",
    "                if tag.get('k')== 'addr:postcode':\n",
    "                    addr_dict['postcode'] = tag.get('v')\n",
    "                addr_dict['state'] = 'CO'\n",
    "            else:\n",
    "                node[tag.get('k')] = tag.get('v')                    \n",
    "            if addr_dict != {}:\n",
    "                node['address'] = addr_dict\n",
    "                \n",
    "        return node\n",
    "    else:\n",
    "        return None\n",
    "\n",
    "    \n",
    "# Function to write data from OSM file into dictionary for mongodb.    \n",
    "def process_map(file_in, pretty = False):\n",
    "    file_out = \"{0}.json\".format(file_in)\n",
    "    data = []\n",
    "    with codecs.open(file_out, \"w\") as fo:\n",
    "        for _, element in ET.iterparse(file_in):\n",
    "            el = shape_element(element)\n",
    "            if el:\n",
    "                data.append(el)\n",
    "                if pretty:\n",
    "                    fo.write(json.dumps(el, indent=2)+\"\\n\")\n",
    "                else:\n",
    "                    fo.write(json.dumps(el) + \"\\n\")\n",
    "    return data\n",
    "\n",
    "# Function to update street name    \n",
    "def update_name_dict(st_types,name, mapping,directions):\n",
    "    st_types_not_found = defaultdict(set)\n",
    "    i_print = 0\n",
    "    for key in st_types:\n",
    "        for street_name in st_types[key]:\n",
    "            name_spl = name.split(' ')\n",
    "            name_street_type = name_spl[len(name_spl)-1]\n",
    "            if name_street_type in mapping:\n",
    "                better_name = update_name(name, mapping,directions)\n",
    "                if i_print<10:\n",
    "                    print(  name  + ' --> ' + better_name)\n",
    "                    i_print = i_print+1\n",
    "                return better_name\n",
    "            else:\n",
    "                st_types_not_found[key].add(street_name)            \n",
    "                return 0\n",
    "# Function to check if a street type is in a dictionary 'mapping' and update street name.           \n",
    "def check_street_names_with_mapping(st_types_in, mapping,directions):\n",
    "    st_types_not_found = defaultdict(set)\n",
    "    for key in st_types_in:\n",
    "        for street_name in st_types_in[key]:\n",
    "            name_spl = street_name.split(' ')\n",
    "            name_street_type = name_spl[len(name_spl)-1]\n",
    "            if name_street_type in mapping:\n",
    "                better_name = update_name(street_name, mapping,directions)\n",
    "            else:\n",
    "                st_types_not_found[key].add(street_name)\n",
    "    return st_types_not_found\n",
    "\n",
    "# Function to get city information from Zipcode.\n",
    "def get_city_zip(city_nm):\n",
    "    city_spl = city_nm.split(\" \")\n",
    "    city_apnd = \"\"\n",
    "    for i_cspl in range(0,len(city_spl)):\n",
    "        city_apnd = city_apnd + city_spl[i_cspl][0].upper() + city_spl[i_cspl][1:len(city_spl[i_cspl])].lower()\n",
    "        if (i_cspl < len(city_spl)-1):\n",
    "            city_apnd = city_apnd + \" \"\n",
    "    city_all.append(city_apnd)\n",
    "    return city_all\n",
    "\n",
    "\n",
    "# Function to check Zipcode.\n",
    "def check_postcode(post_code):\n",
    "    check_var = 1\n",
    "    if len(post_code)!=5:\n",
    "        check_var = 0 # String should be of length 5.\n",
    "    if str.isnumeric(post_code)==False:\n",
    "        check_var = 0 # String should be a numeric\n",
    "    if post_code[0]!='8': \n",
    "        check_var = 0 # First digit should be 8, for all CO-spring addresses\n",
    "    return check_var"
   ]
  },
  {
   "cell_type": "markdown",
   "metadata": {},
   "source": [
    "### <a id='audit_data'>Loading data and checking unexpected street types. </a>\n",
    "Loading data of Colorado Springs. "
   ]
  },
  {
   "cell_type": "code",
   "execution_count": 4,
   "metadata": {
    "collapsed": false,
    "scrolled": true
   },
   "outputs": [
    {
     "name": "stdout",
     "output_type": "stream",
     "text": [
      "{'bounds': 1,\n",
      " 'member': 1260,\n",
      " 'nd': 587863,\n",
      " 'node': 493059,\n",
      " 'osm': 1,\n",
      " 'relation': 193,\n",
      " 'tag': 217826,\n",
      " 'way': 57956}\n"
     ]
    }
   ],
   "source": [
    "filename = 'colorado-springs_colorado.osm'\n",
    "num_tags = count_tags(filename)\n",
    "pprint.pprint(num_tags)"
   ]
  },
  {
   "cell_type": "markdown",
   "metadata": {
    "collapsed": false
   },
   "source": [
    "Next, the types of street names are checked. It is expected that most street names will be \"Street\", \"Avenue\", \"Boulevard\", \"Drive\", \"Court\", \"Lane\", \"Parkway\", \"Commons\",\"Circle\",\"Alley\",\"Way\",\"View\",\"Place\", \"Square\",\"Trail\" or \"Road\". "
   ]
  },
  {
   "cell_type": "code",
   "execution_count": 5,
   "metadata": {
    "collapsed": false
   },
   "outputs": [],
   "source": [
    "# Regular expression to check for street type and expected street names\n",
    "street_type_re = re.compile(r'\\b\\S+\\.?$', re.IGNORECASE)\n",
    "expected = [\"Street\", \"Avenue\", \"Boulevard\", \"Drive\", \"Court\", \"Lane\", \"Road\", \n",
    "            \"Parkway\", \"Commons\",\"Circle\",\"Alley\",\"Way\",\"View\",\"Place\", \"Square\",\"Trail\"]"
   ]
  },
  {
   "cell_type": "code",
   "execution_count": 6,
   "metadata": {
    "collapsed": false
   },
   "outputs": [
    {
     "name": "stdout",
     "output_type": "stream",
     "text": [
      "{'130': {'North Nevada Avenue Ste 130'},\n",
      " '80829': {'El Paso Blvd, Manitou Springs, CO 80829'},\n",
      " '80919': {'230 Point of the Pines Drive  Colorado Springs, CO 80919'},\n",
      " '83': {'Highway 83'},\n",
      " '85': {'South Highway 85'},\n",
      " 'Aly': {'Kempton Aly'},\n",
      " 'Ave': {'E Pikes Peak Ave',\n",
      "         'East Pikes Peak Ave',\n",
      "         'Gilpin Ave',\n",
      "         'N Nevada Ave',\n",
      "         'Skyline Ave',\n",
      "         'West Colorado Ave',\n",
      "         'West Platte Ave'},\n",
      " 'Ave.': {'W. Moreno Ave.', 'Colorado Ave.'},\n",
      " 'Blvd': {'N Academy Blvd', 'N Union Blvd'},\n",
      " 'Boulefard': {'North Academy Boulefard'},\n",
      " 'Building': {'East Pikes Peak Building'},\n",
      " 'CO': {'1 Lake Avenue  Colorado Springs, CO'},\n",
      " 'Cascade': {'South Cascade'},\n",
      " 'Chelton': {'N Chelton'},\n",
      " 'Costilla': {'East Costilla'},\n",
      " 'Ct': {'Beechwood Ct'},\n",
      " 'Dr': {'Dorset Dr',\n",
      "        'Ellingwood Dr',\n",
      "        'Hanham Dr',\n",
      "        'Lake Plaza Dr',\n",
      "        'St Paul Dr',\n",
      "        'iveDorset Dr'},\n",
      " 'Dr.': {'802 Village Center Dr.', 'Explorer Dr.', 'Acacia Dr.'},\n",
      " 'Expressway': {'Hancock Expressway'},\n",
      " 'Loop': {'Academy Park Loop', 'Chosin Loop', 'Antrim Loop', 'Bowden Loop'},\n",
      " 'Nevada': {'S. Nevada'},\n",
      " 'Pkwy': {'Briargate Pkwy'},\n",
      " 'Pl': {'Oak Pl', 'Terrace Pl', 'Santa Fe Pl', 'Poplar Pl', 'Plainview Pl'},\n",
      " 'Plaza': {'S. Union Blvd, Suite 255, Printers Park Medical Plaza'},\n",
      " 'Point': {'Angelstone Point',\n",
      "           'Cinema Point',\n",
      "           'Crystal Loma Point',\n",
      "           'Medical Center Point',\n",
      "           'New Center Point',\n",
      "           'Northrop Grumman Point',\n",
      "           'Prominent Point',\n",
      "           'Timepiece Point',\n",
      "           'Villa Glen Point'},\n",
      " 'Pt': {'New Center Pt'},\n",
      " 'Rd': {'Bear Creek Rd', '3654 Galley Rd', 'Monterey Rd', 'Waynoka Rd'},\n",
      " 'S': {'Circle Dr S'},\n",
      " 'South': {'Nonchalant Circle South'},\n",
      " 'St': {'Derbyshire St',\n",
      "        'Evesham St',\n",
      "        'Flintshire St',\n",
      "        'S Tejon St',\n",
      "        'South Tejon St',\n",
      "        'Tyler St'},\n",
      " 'St.': {'East Boulder St.', 'N. El Paso St.'},\n",
      " 'Tejon': {'South Tejon'},\n",
      " 'Terrace': {'Babcock Terrace',\n",
      "             'Gold Spike Terrace',\n",
      "             'Lange Terrace',\n",
      "             'Ramsgate Terrace',\n",
      "             'Summernight Terrace'},\n",
      " 'Union': {'West Union'},\n",
      " 'West': {'Oak Creek Drive West', 'Nolte Drive West'}}\n"
     ]
    }
   ],
   "source": [
    "# Checking all street types that are not in 'expected' list\n",
    "st_types = audit(filename)\n",
    "pprint.pprint(st_types)"
   ]
  },
  {
   "cell_type": "code",
   "execution_count": 7,
   "metadata": {
    "collapsed": false
   },
   "outputs": [
    {
     "name": "stdout",
     "output_type": "stream",
     "text": [
      "79\n"
     ]
    }
   ],
   "source": [
    "# Number of streets with non-corforming street type entries.\n",
    "num_nonConf = 0\n",
    "for key in st_types:\n",
    "    num_nonConf = num_nonConf + len(st_types[key])\n",
    "print(num_nonConf)"
   ]
  },
  {
   "cell_type": "markdown",
   "metadata": {},
   "source": [
    "### <a id='update_data'>Updating street names. </a>\n",
    "\n",
    "\n",
    "Many streets are named using acronyms for the full street type name. For example, Road is labeled at Rd or Rd. In some places. Therefore, a mapping dictionary is created to map the short from of the street types used by the user and the full name of the street type. \n",
    "\n",
    "Further, street types like \"Point\", \"Loop\" and \"Terrace\" were not included in names. Google search showed that these street types are actually used to label streets in Colorado Springs. So these street types were added to expected list. \n",
    "\n",
    "Next, a update_name function was used replace short forms with the full name. The street types that were not found in either expected or short forms were collected in a python dictionary. "
   ]
  },
  {
   "cell_type": "code",
   "execution_count": 8,
   "metadata": {
    "collapsed": false
   },
   "outputs": [
    {
     "name": "stdout",
     "output_type": "stream",
     "text": [
      "{'130': {'North Nevada Avenue Ste 130'},\n",
      " '80829': {'El Paso Blvd, Manitou Springs, CO 80829'},\n",
      " '80919': {'230 Point of the Pines Drive  Colorado Springs, CO 80919'},\n",
      " '83': {'Highway 83'},\n",
      " '85': {'South Highway 85'},\n",
      " 'Aly': {'Kempton Aly'},\n",
      " 'Boulefard': {'North Academy Boulefard'},\n",
      " 'Building': {'East Pikes Peak Building'},\n",
      " 'CO': {'1 Lake Avenue  Colorado Springs, CO'},\n",
      " 'Cascade': {'South Cascade'},\n",
      " 'Chelton': {'N Chelton'},\n",
      " 'Costilla': {'East Costilla'},\n",
      " 'Ct': {'Beechwood Ct'},\n",
      " 'Expressway': {'Hancock Expressway'},\n",
      " 'Nevada': {'S. Nevada'},\n",
      " 'Pkwy': {'Briargate Pkwy'},\n",
      " 'Pl': {'Oak Pl', 'Terrace Pl', 'Santa Fe Pl', 'Plainview Pl', 'Poplar Pl'},\n",
      " 'Plaza': {'S. Union Blvd, Suite 255, Printers Park Medical Plaza'},\n",
      " 'Pt': {'New Center Pt'},\n",
      " 'S': {'Circle Dr S'},\n",
      " 'South': {'Nonchalant Circle South'},\n",
      " 'Tejon': {'South Tejon'},\n",
      " 'Union': {'West Union'},\n",
      " 'West': {'Oak Creek Drive West', 'Nolte Drive West'}}\n"
     ]
    }
   ],
   "source": [
    "# Adding additional street types to expected, and making a mapping vector to map abbreviations to full name.\n",
    "\n",
    "mapping = { \"St\": \"Street\",\n",
    "            \"St.\": \"Street\",\n",
    "            \"Rd.\":\"Road\",\n",
    "            \"Rd\":\"Road\",\n",
    "            \"Ave.\":\"Avenue\",\n",
    "            \"Ave \":\"Avenue\",\n",
    "            \"Ave\": \"Avenue\",\n",
    "            \"Dr\" : \"Drive\",\n",
    "            \"Dr.\" : \"Drive\",           \n",
    "            \"Blvd\": \"Boulevard\",\n",
    "            \n",
    "            }\n",
    "            \n",
    "expected.append('Terrace') \n",
    "expected.append('Point')\n",
    "expected.append('Loop')\n",
    "\n",
    "st_directions = { \"S\": \"South\",\n",
    "            \"S.\": \"South\",\n",
    "            \"N.\":\"North\",\n",
    "            \"N\":\"North\",\n",
    "            \"W.\":\"West\",\n",
    "            \"W \":\"West\",\n",
    "            \"E.\": \"East\",\n",
    "            \"E\" : \"East\",\n",
    "            \"West\":\"West\",\n",
    "            \"East\":\"East\",\n",
    "            \"North\":\"North\",\n",
    "            \"South\":\"South\",\n",
    "            }\n",
    "\n",
    "st_types = audit(filename)\n",
    "st_types_not_found = check_street_names_with_mapping(st_types, mapping,st_directions)\n",
    "pprint.pprint(st_types_not_found)"
   ]
  },
  {
   "cell_type": "markdown",
   "metadata": {
    "collapsed": false
   },
   "source": [
    "There were a few street types that were not included in the original expected list. So the list of expected was updated by adding \"Expressway\", \"Highway 83\" and \"Highway 85\". Further inspection revealed that Pikes Peak Building is a property and not a street. However, as there was only 1 entry, this entry was left as it is. \n",
    "\n",
    "Further inspection revealed that some of the short forms of the street names were not included in the original mapping, and some street names were labeled without street types in them. So the mapping dictionary was updated to add more short forms and street types to streets that didnt have the street type."
   ]
  },
  {
   "cell_type": "code",
   "execution_count": 9,
   "metadata": {
    "collapsed": false,
    "scrolled": true
   },
   "outputs": [],
   "source": [
    "# Adding additional street types to expected, and making a mapping vector to map abbreviations to full name.\n",
    "\n",
    "expected.append('Expressway')\n",
    "expected.append('83')\n",
    "expected.append('85')\n",
    "expected.append('Building')\n",
    "\n",
    "mapping['Boulefard'] = 'Boulevard' \n",
    "mapping['Pkwy'] = 'Parkway' \n",
    "mapping['Aly'] = 'Alley'\n",
    "mapping['Pl'] = 'Place'\n",
    "mapping['Pt'] = 'Point'\n",
    "mapping['Ct'] = 'Court'\n",
    "mapping['Costilla'] = 'Costilla Street'\n",
    "mapping['Nevada'] = 'Nevada Avenue'\n",
    "mapping['Tejon'] = 'Tejon Street'\n",
    "mapping['Chelton'] = 'Chelton Road'\n",
    "mapping['Cascade'] = 'Cascade Avenue'\n",
    "mapping['Union'] = 'West Union Boulevard'\n",
    "mapping.update(st_directions)"
   ]
  },
  {
   "cell_type": "markdown",
   "metadata": {},
   "source": [
    "Same street name can be written in different formats when direction (North, South, East, West) information is included. Therefore, these street names were updated so the direction is first. "
   ]
  },
  {
   "cell_type": "code",
   "execution_count": 10,
   "metadata": {
    "collapsed": false
   },
   "outputs": [
    {
     "name": "stdout",
     "output_type": "stream",
     "text": [
      "Union Blvd-->Union Boulevard\n",
      "S Union Blvd-->South Union Boulevard\n",
      "Union Blvd S-->South Union Boulevard\n",
      "S. Union Blvd-->South Union Boulevard\n",
      "Union Blvd S.-->South Union Boulevard\n"
     ]
    }
   ],
   "source": [
    "# Checking the update streettype function\n",
    "st_nm_arr = ['Union Blvd',\n",
    "             'S Union Blvd',\n",
    "             'Union Blvd S',\n",
    "             'S. Union Blvd',\n",
    "             'Union Blvd S.']\n",
    "for street_name in st_nm_arr:\n",
    "    btr_nm = update_name(street_name ,mapping,st_directions)\n",
    "    print(street_name + '-->' +btr_nm)"
   ]
  },
  {
   "cell_type": "code",
   "execution_count": 11,
   "metadata": {
    "collapsed": false
   },
   "outputs": [
    {
     "name": "stdout",
     "output_type": "stream",
     "text": [
      "{'130': {'North Nevada Avenue Ste 130'},\n",
      " '80829': {'El Paso Blvd, Manitou Springs, CO 80829'},\n",
      " '80919': {'230 Point of the Pines Drive  Colorado Springs, CO 80919'},\n",
      " 'CO': {'1 Lake Avenue  Colorado Springs, CO'},\n",
      " 'Plaza': {'S. Union Blvd, Suite 255, Printers Park Medical Plaza'}}\n"
     ]
    }
   ],
   "source": [
    "# Updating street types.\n",
    "\n",
    "st_types = audit(filename)\n",
    "st_types = audit(filename)\n",
    "\n",
    "st_types_not_found = check_street_names_with_mapping(st_types, mapping,st_directions)\n",
    "pprint.pprint(st_types_not_found)"
   ]
  },
  {
   "cell_type": "markdown",
   "metadata": {},
   "source": [
    "Based on the list above, there are 5 addresses that are not resolved. For these addresses, the street numbers are entered as the entire address. These addresses will be resolved after importing them in Mongodb."
   ]
  },
  {
   "cell_type": "code",
   "execution_count": 12,
   "metadata": {
    "collapsed": false
   },
   "outputs": [
    {
     "name": "stdout",
     "output_type": "stream",
     "text": [
      "########################\n",
      "########################\n",
      "Addresses with non-conforming street names:\n",
      "Old name --> New Name\n",
      "########################\n",
      "Colorado Ave. --> Colorado Avenue\n",
      "New Center Pt --> New Center Point\n",
      "N Academy Blvd --> North Academy Boulevard\n",
      "Skyline Ave --> Skyline Avenue\n",
      "West Platte Ave --> West Platte Avenue\n",
      "802 Village Center Dr. --> 802 Village Center Drive\n",
      "St Paul Dr --> St Paul Drive\n",
      "Evesham St --> Evesham Street\n",
      "West Colorado Ave --> West Colorado Avenue\n",
      "West Union --> West West Union Boulevard\n",
      "East Boulder St. --> East Boulder Street\n",
      "South Cascade --> South Cascade Avenue\n",
      "South Tejon St --> South Tejon Street\n",
      "East Pikes Peak Ave --> East Pikes Peak Avenue\n",
      "South Tejon --> South Tejon Street\n",
      "S. Nevada --> South Nevada Avenue\n",
      "Waynoka Rd --> Waynoka Road\n",
      "S Tejon St --> South Tejon Southtreet\n",
      "N. El Paso St. --> North El Paso Street\n",
      "Bear Creek Rd --> Bear Creek Road\n",
      "Terrace Pl --> Terrace Place\n",
      "Oak Pl --> Oak Place\n",
      "Plainview Pl --> Placeainview Place\n",
      "Plainview Pl --> Placeainview Place\n",
      "Plainview Pl --> Placeainview Place\n",
      "Plainview Pl --> Placeainview Place\n",
      "Poplar Pl --> Poplar Place\n",
      "Plainview Pl --> Placeainview Place\n",
      "Poplar Pl --> Poplar Place\n",
      "Terrace Pl --> Terrace Place\n",
      "Terrace Pl --> Terrace Place\n",
      "Terrace Pl --> Terrace Place\n",
      "Plainview Pl --> Placeainview Place\n",
      "Plainview Pl --> Placeainview Place\n",
      "Plainview Pl --> Placeainview Place\n",
      "Nonchalant Circle South --> South Nonchalant Circle\n",
      "E Pikes Peak Ave --> East Pikes Peak Avenue\n",
      "Terrace Pl --> Terrace Place\n",
      "Tyler St --> Tyler Street\n",
      "Terrace Pl --> Terrace Place\n",
      "Plainview Pl --> Placeainview Place\n",
      "Oak Pl --> Oak Place\n",
      "Santa Fe Pl --> Santa Fe Place\n",
      "Plainview Pl --> Placeainview Place\n",
      "Oak Pl --> Oak Place\n",
      "Santa Fe Pl --> Santa Fe Place\n",
      "Plainview Pl --> Placeainview Place\n",
      "Plainview Pl --> Placeainview Place\n",
      "Plainview Pl --> Placeainview Place\n",
      "Plainview Pl --> Placeainview Place\n",
      "Santa Fe Pl --> Santa Fe Place\n",
      "Santa Fe Pl --> Santa Fe Place\n",
      "Santa Fe Pl --> Santa Fe Place\n",
      "Santa Fe Pl --> Santa Fe Place\n",
      "Oak Pl --> Oak Place\n",
      "Oak Pl --> Oak Place\n",
      "Plainview Pl --> Placeainview Place\n",
      "Terrace Pl --> Terrace Place\n",
      "N Chelton --> North Chelton Road\n",
      "Nonchalant Circle South --> South Nonchalant Circle\n",
      "Oak Creek Drive West --> West Oak Creek Drive\n",
      "Acacia Dr. --> Acacia Drive\n",
      "W. Moreno Ave. --> West Moreno Avenue\n",
      "New Center Pt --> New Center Point\n",
      "Lake Plaza Dr --> Lake Plaza Drive\n",
      "N Union Blvd --> North Union Boulevard\n",
      "Explorer Dr. --> Explorer Drive\n",
      "Beechwood Ct --> Beechwood Court\n",
      "East Costilla --> East Costilla Street\n",
      "Briargate Pkwy --> Briargate Parkway\n",
      "N Academy Blvd --> North Academy Boulevard\n",
      "N Nevada Ave --> North Northevada Avenue\n",
      "Hanham Dr --> Hanham Drive\n",
      "Monterey Rd --> Monterey Road\n",
      "Gilpin Ave --> Gilpin Avenue\n",
      "Flintshire St --> Flintshire Street\n",
      "Circle Dr S --> South Circle Drive\n",
      "Flintshire St --> Flintshire Street\n",
      "Kempton Aly --> Kempton Alley\n",
      "iveDorset Dr --> iveDorset Drive\n",
      "Ellingwood Dr --> Ellingwood Drive\n",
      "Monterey Rd --> Monterey Road\n",
      "St Paul Dr --> St Paul Drive\n",
      "Dorset Dr --> Dorset Drive\n",
      "Derbyshire St --> Derbyshire Street\n",
      "Nolte Drive West --> West Nolte Drive\n",
      "North Academy Boulefard --> North Academy Boulevard\n",
      "3654 Galley Rd --> 3654 Galley Road\n",
      "Nonchalant Circle South --> South Nonchalant Circle\n"
     ]
    }
   ],
   "source": [
    "# Updating street types.\n",
    "\n",
    "print(\"########################\")\n",
    "print(\"########################\")\n",
    "print(\"Addresses with non-conforming street names:\")\n",
    "print(\"Old name --> New Name\")\n",
    "print(\"########################\")\n",
    "\n",
    "data_map = process_map(filename,False)\n"
   ]
  },
  {
   "cell_type": "code",
   "execution_count": 13,
   "metadata": {
    "collapsed": false
   },
   "outputs": [
    {
     "name": "stdout",
     "output_type": "stream",
     "text": [
      "{'130': {'North Nevada Avenue Ste 130'},\n",
      " '80829': {'El Paso Blvd, Manitou Springs, CO 80829'},\n",
      " '80919': {'230 Point of the Pines Drive  Colorado Springs, CO 80919'},\n",
      " 'CO': {'1 Lake Avenue  Colorado Springs, CO'},\n",
      " 'Plaza': {'S. Union Blvd, Suite 255, Printers Park Medical Plaza'}}\n"
     ]
    }
   ],
   "source": [
    "# street types not found in expected or after updating.\n",
    "pprint.pprint(st_types_not_found)"
   ]
  },
  {
   "cell_type": "code",
   "execution_count": null,
   "metadata": {
    "collapsed": false
   },
   "outputs": [],
   "source": []
  },
  {
   "cell_type": "markdown",
   "metadata": {},
   "source": [
    "### <a id='import_Mdb'>Importing data to mongodb </a>\n",
    "Data is now imported into mongoDB"
   ]
  },
  {
   "cell_type": "code",
   "execution_count": 4,
   "metadata": {
    "collapsed": false
   },
   "outputs": [
    {
     "name": "stdout",
     "output_type": "stream",
     "text": [
      "Data added to mongoDb\n"
     ]
    }
   ],
   "source": [
    "# Adding data to mongoDB\n",
    "\n",
    "def drop_db():\n",
    "    db.CoSprings.drop()\n",
    "\n",
    "# db.CoSprings.drop() command to drop database.\n",
    "    \n",
    "def get_db():\n",
    "    from pymongo import MongoClient\n",
    "    client = MongoClient('localhost:27017')\n",
    "    db = client.examples\n",
    "    return db\n",
    "db = get_db()\n",
    "db.CoSprings.insert(data_map)\n",
    "print(\"Data added to mongoDb\")"
   ]
  },
  {
   "cell_type": "code",
   "execution_count": 5,
   "metadata": {
    "collapsed": false
   },
   "outputs": [
    {
     "data": {
      "text/plain": [
       "{'_id': ObjectId('5683d5d69f81c615f098773c'),\n",
       " 'created': {'changeset': '16933109',\n",
       "  'timestamp': '2013-07-13T05:00:28Z',\n",
       "  'uid': '227972',\n",
       "  'user': 'Your Village Maps',\n",
       "  'version': '37'},\n",
       " 'id': '32658042',\n",
       " 'pos': [38.8970934, -104.8302179],\n",
       " 'type': 'node',\n",
       " 'visible': None}"
      ]
     },
     "execution_count": 5,
     "metadata": {},
     "output_type": "execute_result"
    }
   ],
   "source": [
    "db.CoSprings.find_one()"
   ]
  },
  {
   "cell_type": "code",
   "execution_count": 21,
   "metadata": {
    "collapsed": false
   },
   "outputs": [
    {
     "name": "stdout",
     "output_type": "stream",
     "text": [
      "{'_id': {'housenumber': '2951',\n",
      "         'postcode': '1875',\n",
      "         'state': 'CO',\n",
      "         'street': 'East Dale Street'},\n",
      " 'count': 1}\n",
      "{'_id': {'city': 'Colorado Springs',\n",
      "         'housenumber': '505',\n",
      "         'postcode': 'CO',\n",
      "         'state': 'CO',\n",
      "         'street': 'East Columbia Street'},\n",
      " 'count': 1}\n"
     ]
    }
   ],
   "source": [
    "# Checking post code entries for format\n",
    "\n",
    "pipeline = [{\"$match\":{\"address.postcode\":{\"$exists\":1}}}, \n",
    "            {\"$group\":{\"_id\":\"$address\", \n",
    "                       \"count\":{\"$sum\":1}}}, \n",
    "            {\"$sort\":{\"count\":-1}}]\n",
    "search_postcode= db.CoSprings.aggregate(pipeline)\n",
    "a_list = []\n",
    "for a in search_postcode:\n",
    "    a_list.append(a)\n",
    "    print_var = check_postcode(a['_id']['postcode'])\n",
    "    if print_var == 0:\n",
    "        pprint.pprint(a)\n",
    "    "
   ]
  },
  {
   "cell_type": "markdown",
   "metadata": {
    "collapsed": false
   },
   "source": [
    "There are 2 addresses with entries that do not match standard zipcode format. These entries were manually updated using output from google maps. "
   ]
  },
  {
   "cell_type": "code",
   "execution_count": 22,
   "metadata": {
    "collapsed": false
   },
   "outputs": [
    {
     "name": "stdout",
     "output_type": "stream",
     "text": [
      "Postal code changed from 1875 to 80909\n"
     ]
    },
    {
     "data": {
      "text/plain": [
       "ObjectId('5687fe649f81c64a012625d6')"
      ]
     },
     "execution_count": 22,
     "metadata": {},
     "output_type": "execute_result"
    }
   ],
   "source": [
    "post_add1 = db.CoSprings.find_one({'address.postcode':'1875'})\n",
    "postalcode_before = post_add1['address']['postcode']\n",
    "post_add1['address']['postcode']='80909'\n",
    "postalcode_after = post_add1['address']['postcode']\n",
    "print('Postal code changed from ' + postalcode_before + ' to ' + postalcode_after)\n",
    "db.CoSprings.save(post_add1)\n",
    "\n",
    "post_add1 = db.CoSprings.find_one({'address.postcode': 'CO'})\n",
    "post_add1['address']['postcode']='80907'\n",
    "post_add1['address']['state']='CO'\n",
    "db.CoSprings.save(post_add1)"
   ]
  },
  {
   "cell_type": "markdown",
   "metadata": {},
   "source": [
    "### <a id='update_city'>Checking city names based on zip codes. </a>"
   ]
  },
  {
   "cell_type": "code",
   "execution_count": 24,
   "metadata": {
    "collapsed": false
   },
   "outputs": [
    {
     "name": "stdout",
     "output_type": "stream",
     "text": [
      "15798 of 23183 addresses have street, city and postcode information\n"
     ]
    }
   ],
   "source": [
    "# Checking how many address entries have city, street and post code information, but have postal code data.\n",
    "\n",
    "pipeline = {\"address\":{\"$exists\":1},\n",
    "            \"address.street\":{\"$exists\":1},\n",
    "            \"address.city\":{\"$exists\":1},\n",
    "            \"address.postcode\":{\"$exists\":1}\n",
    "            }\n",
    "num_all_adr = db.CoSprings.find(pipeline).count()\n",
    "pipeline = {\"address\":{\"$exists\":1},\n",
    "            }\n",
    "num_all = db.CoSprings.find(pipeline).count()\n",
    "\n",
    "print(str(num_all_adr) + \" of \" + str(num_all) + \" addresses have street, city and postcode information\")"
   ]
  },
  {
   "cell_type": "code",
   "execution_count": 29,
   "metadata": {
    "collapsed": false,
    "scrolled": true
   },
   "outputs": [
    {
     "name": "stdout",
     "output_type": "stream",
     "text": [
      "15842\n",
      "US Air Force Academy : U S A F Academy : 80840\n",
      "US Air Force Academy : U S A F Academy : 80840\n",
      "US Air Force Academy : U S A F Academy : 80840\n",
      "Security-Widefield : Colorado Springs : 80911\n",
      "Security-Widefield : Colorado Springs : 80911\n",
      "Fort Carson : Colorado Springs : 80913\n",
      "Fort Carson : Colorado Springs : 80913\n",
      "Fort Carson : Colorado Springs : 80913\n",
      "Fort Carson : Colorado Springs : 80913\n",
      "Fort Carson : Colorado Springs : 80913\n",
      "Cities not in the expected city list:\n",
      "{'Colorado springs',\n",
      " 'Fort Carson',\n",
      " 'Security',\n",
      " 'Security-Widefield',\n",
      " 'US Air Force Academy',\n",
      " 'Widefield',\n",
      " 'colorado springs, CO'}\n"
     ]
    }
   ],
   "source": [
    "# Checking how many address entries have city and post code information, but have postal code data. \n",
    "# This block compares street names from data base entries and city information from zipcode package.\n",
    "\n",
    "pipeline = {\"address\":{\"$exists\":1},\n",
    "            \"address.city\":{\"$exists\":1},\n",
    "            \"address.postcode\":{\"$exists\":1}\n",
    "            }\n",
    "num_all_adr = db.CoSprings.find(pipeline).count()\n",
    "print(num_all_adr)\n",
    "all_adr = db.CoSprings.find(pipeline)                                               \n",
    "city_all = []\n",
    "city_not_in_list = []\n",
    "i_city = 0\n",
    "for a in all_adr:\n",
    "    zp = a['address']['postcode']\n",
    "    myzip = zipcode.isequal(zp)\n",
    "    city_nm = myzip.city\n",
    "    city_spl = city_nm.split(\" \")\n",
    "    city_apnd = \"\"\n",
    "    for i_cspl in range(0,len(city_spl)):\n",
    "        city_apnd = city_apnd + city_spl[i_cspl][0].upper() + city_spl[i_cspl][1:len(city_spl[i_cspl])].lower()\n",
    "        if (i_cspl < len(city_spl)-1):\n",
    "            city_apnd = city_apnd + \" \"\n",
    "    city_all.append(city_apnd)\n",
    "    \n",
    "    if a['address']['city'] != city_apnd:\n",
    "        city_not_in_list.append(a['address']['city'])\n",
    "        if i_city<10:\n",
    "            i_city = i_city+1\n",
    "            print(a['address']['city'] + ' : ' + city_apnd +  ' : ' + a['address']['postcode'])\n",
    "\n",
    "\n",
    "print('')\n",
    "print('')\n",
    "print('Cities not in the expected city list:')\n",
    "pprint.pprint(set(city_not_in_list))"
   ]
  },
  {
   "cell_type": "code",
   "execution_count": 30,
   "metadata": {
    "collapsed": false
   },
   "outputs": [
    {
     "name": "stdout",
     "output_type": "stream",
     "text": [
      "7252 addresses do not have city infromation\n",
      "4826 addresses do not have city infromation, but have postal code information.\n"
     ]
    }
   ],
   "source": [
    "# Checking how many address entries do not have city information, but have postal code data.\n",
    "pipeline = {\"address\":{\"$exists\":1},\n",
    "            \"address.city\":{\"$exists\":0},\n",
    "            }\n",
    "num_all_adr = db.CoSprings.find(pipeline).count()\n",
    "print(str(num_all_adr) + \" addresses do not have city infromation\")\n",
    "\n",
    "\n",
    "pipeline = {\"address\":{\"$exists\":1},\n",
    "            \"address.city\":{\"$exists\":0},\n",
    "            \"address.postcode\":{\"$exists\":1}\n",
    "            }\n",
    "num_all_adr = db.CoSprings.find(pipeline).count()\n",
    "print(str(num_all_adr) + \" addresses do not have city infromation, but have postal code information.\")        "
   ]
  },
  {
   "cell_type": "markdown",
   "metadata": {},
   "source": [
    "We find 7252 addresses do not have city information. Of these 4826 addresses have postcode. Therefore, this information can be used to update city names. "
   ]
  },
  {
   "cell_type": "code",
   "execution_count": 31,
   "metadata": {
    "collapsed": false
   },
   "outputs": [
    {
     "name": "stdout",
     "output_type": "stream",
     "text": [
      "4826 addresses have postal code information, but no city information\n"
     ]
    },
    {
     "data": {
      "text/plain": [
       "{'Colorado Springs',\n",
       " 'Fountain',\n",
       " 'Glenwood Springs',\n",
       " 'Guffey',\n",
       " 'Joes',\n",
       " 'Manitou Springs',\n",
       " 'Steamboat Springs',\n",
       " 'U S A F Academy'}"
      ]
     },
     "execution_count": 31,
     "metadata": {},
     "output_type": "execute_result"
    }
   ],
   "source": [
    "# Updating city names based on postal code.\n",
    "pipeline = {\"address\":{\"$exists\":1},\n",
    "            \"address.city\":{\"$exists\":0},\n",
    "            \"address.postcode\":{\"$exists\":1}\n",
    "            }\n",
    "num_all_adr = db.CoSprings.find(pipeline).count()\n",
    "print(str(num_all_adr) + \" addresses have postal code information, but no city information\")\n",
    "all_adr = db.CoSprings.find(pipeline)                                               \n",
    "city_all = []\n",
    "for a in all_adr:\n",
    "    zp = a['address']['postcode']\n",
    "    myzip = zipcode.isequal(zp)\n",
    "    city_nm = myzip.city\n",
    "    city_spl = city_nm.split(\" \")\n",
    "    city_apnd = \"\"\n",
    "    for i_cspl in range(0,len(city_spl)):\n",
    "        city_apnd = city_apnd + city_spl[i_cspl][0].upper() + city_spl[i_cspl][1:len(city_spl[i_cspl])].lower()\n",
    "        if (i_cspl < len(city_spl)-1):\n",
    "            city_apnd = city_apnd + \" \"\n",
    "    city_all.append(city_apnd)\n",
    "    a['address']['city'] = city_apnd\n",
    "    db.CoSprings.save(a)\n",
    "set(city_all)"
   ]
  },
  {
   "cell_type": "code",
   "execution_count": 36,
   "metadata": {
    "collapsed": false
   },
   "outputs": [
    {
     "name": "stdout",
     "output_type": "stream",
     "text": [
      "After updating 0 addresses had postal code information, but no city information. Therefore, 4826 cities were updated.\n"
     ]
    }
   ],
   "source": [
    "# Updating city names based on postal code.\n",
    "pipeline = {\"address\":{\"$exists\":1},\n",
    "            \"address.city\":{\"$exists\":0},\n",
    "            \"address.postcode\":{\"$exists\":1}\n",
    "            }\n",
    "num_all_adr = db.CoSprings.find(pipeline).count()\n",
    "print('After updating ' + str(num_all_adr) + \" addresses had postal code information, but no city information. Therefore, 4826 cities were updated.\")\n"
   ]
  },
  {
   "cell_type": "markdown",
   "metadata": {},
   "source": [
    "Some city names were entered differently in the data base, further some addresses, different city names are used to refer to the same city. In this case, city names were updated using a mapping function."
   ]
  },
  {
   "cell_type": "code",
   "execution_count": 37,
   "metadata": {
    "collapsed": false
   },
   "outputs": [
    {
     "name": "stdout",
     "output_type": "stream",
     "text": [
      "20757\n"
     ]
    }
   ],
   "source": [
    "# Updating city names' abbreviations and other names.\n",
    "\n",
    "pipeline = {\"address\":{\"$exists\":1},\n",
    "            \"address.city\":{\"$exists\":1},\n",
    "            }\n",
    "num_all_city = db.CoSprings.find(pipeline).count()\n",
    "print(num_all_city)\n",
    "all_adr = db.CoSprings.find(pipeline)                                               \n",
    "city_all = []\n",
    "for a in all_adr:\n",
    "    city_all.append(a['address']['city'])\n",
    "set(city_all)\n",
    "\n",
    "mapping_cities = { \"Colorado springs\": \"Colorado Springs\",\n",
    "            \"colorado springs, CO\": \"Colorado Springs\",\n",
    "            \"United States Air Force Academy\":\"US Air Force Academy\",\n",
    "            \"U S A F Academy\":\"US Air Force Academy\",\n",
    "            \"Security\": \"Security-Widefield\",\n",
    "            \"Widefield\": \"Security-Widefield\",\n",
    "                }\n",
    "\n"
   ]
  },
  {
   "cell_type": "code",
   "execution_count": 38,
   "metadata": {
    "collapsed": false
   },
   "outputs": [
    {
     "name": "stdout",
     "output_type": "stream",
     "text": [
      "Colorado springs\n",
      "colorado springs, CO\n",
      "U S A F Academy\n",
      "Security\n",
      "United States Air Force Academy\n",
      "Widefield\n"
     ]
    }
   ],
   "source": [
    "# Updating city names' abbreviations and other names.\n",
    "for city_name in mapping_cities:\n",
    "    print(city_name)\n",
    "    \n",
    "    pipeline = {\"address\":{\"$exists\":1},\n",
    "          \n",
    "                \"address.city\":city_name\n",
    "               }\n",
    "    num_all_city = db.CoSprings.find(pipeline).count()\n",
    "    post_add1 = db.CoSprings.find(pipeline)\n",
    "    for a in post_add1:\n",
    "        a['address']['city'] = mapping_cities[city_name]\n",
    "        db.CoSprings.save(a)\n",
    "\n",
    "    \n"
   ]
  },
  {
   "cell_type": "code",
   "execution_count": 39,
   "metadata": {
    "collapsed": false
   },
   "outputs": [
    {
     "name": "stdout",
     "output_type": "stream",
     "text": [
      "Colorado springs :- 0\n",
      "colorado springs, CO :- 0\n",
      "U S A F Academy :- 0\n",
      "Security :- 0\n",
      "United States Air Force Academy :- 0\n",
      "Widefield :- 0\n"
     ]
    }
   ],
   "source": [
    "# Checking if abbreviations or other inconsistent names' occurance after updating. \n",
    "for city_name in mapping_cities:\n",
    "    \n",
    "    pipeline = {\"address\":{\"$exists\":1},\n",
    "                \"address.city\":city_name\n",
    "               }\n",
    "    num_all_city = db.CoSprings.find(pipeline).count()\n",
    "    print(city_name + \" :- \" + str(num_all_city))"
   ]
  },
  {
   "cell_type": "code",
   "execution_count": null,
   "metadata": {
    "collapsed": true
   },
   "outputs": [],
   "source": []
  },
  {
   "cell_type": "code",
   "execution_count": null,
   "metadata": {
    "collapsed": false
   },
   "outputs": [],
   "source": []
  },
  {
   "cell_type": "markdown",
   "metadata": {
    "collapsed": false
   },
   "source": [
    "### <a id='update_zip'>Updating postal codes based on street and city names. </a>"
   ]
  },
  {
   "cell_type": "code",
   "execution_count": 29,
   "metadata": {
    "collapsed": false
   },
   "outputs": [
    {
     "name": "stdout",
     "output_type": "stream",
     "text": [
      "80487\n"
     ]
    }
   ],
   "source": [
    "from geopy.geocoders import Nominatim\n",
    "geolocator = Nominatim()\n",
    "location = geolocator.geocode(\"Manitou Avenue, Colorado Springs, CO\")\n",
    "if location != None:\n",
    "    post_code = location.address.split(', ')[len(location.address.split(', '))-2]\n",
    "    print(post_code)"
   ]
  },
  {
   "cell_type": "code",
   "execution_count": 18,
   "metadata": {
    "collapsed": true
   },
   "outputs": [],
   "source": []
  },
  {
   "cell_type": "code",
   "execution_count": 44,
   "metadata": {
    "collapsed": false
   },
   "outputs": [
    {
     "name": "stdout",
     "output_type": "stream",
     "text": [
      "1696 address entries have street information, but no zipcode\n"
     ]
    }
   ],
   "source": [
    "pipeline = {\"address\":{\"$exists\":1},\n",
    "            \"address.street\":{\"$exists\":1},\n",
    "            \"address.postcode\":{\"$exists\":0},\n",
    "            }\n",
    "print(str(db.CoSprings.find(pipeline).count()) + \" address entries have street information, but no zipcode\")\n"
   ]
  },
  {
   "cell_type": "markdown",
   "metadata": {
    "collapsed": false
   },
   "source": [
    "1696 address entries have street information, but no zipcode information. Therefore, the postal code information can be updated using street names. When city information existed, city name was used. If no city information was provided in the data base, a default of 'Colorado Springs' was used. "
   ]
  },
  {
   "cell_type": "code",
   "execution_count": 19,
   "metadata": {
    "collapsed": false,
    "scrolled": true
   },
   "outputs": [
    {
     "name": "stdout",
     "output_type": "stream",
     "text": [
      "367\n",
      "Gami Way, Colorado Springs, CO\n",
      "4791 Gami Way, Colorado Springs, CO\n",
      "Gami Way, Colorado Springs, CO\n",
      "West West Union Boulevard, Colorado Springs, CO\n",
      "Placeainview Place, Colorado Springs, CO\n",
      "Placeainview Place, Colorado Springs, CO\n",
      "Placeainview Place, Colorado Springs, CO\n",
      "Placeainview Place, Colorado Springs, CO\n",
      "Placeainview Place, Colorado Springs, CO\n",
      "Placeainview Place, Colorado Springs, CO\n",
      "Placeainview Place, Colorado Springs, CO\n",
      "Placeainview Place, Colorado Springs, CO\n",
      "Placeainview Place, Colorado Springs, CO\n",
      "Santa Fe Place, Colorado Springs, CO\n",
      "Placeainview Place, Colorado Springs, CO\n",
      "Santa Fe Place, Colorado Springs, CO\n",
      "Placeainview Place, Colorado Springs, CO\n",
      "Placeainview Place, Colorado Springs, CO\n",
      "Placeainview Place, Colorado Springs, CO\n",
      "Placeainview Place, Colorado Springs, CO\n",
      "Santa Fe Place, Colorado Springs, CO\n",
      "Santa Fe Place, Colorado Springs, CO\n",
      "Santa Fe Place, Colorado Springs, CO\n",
      "Santa Fe Place, Colorado Springs, CO\n",
      "Placeainview Place, Colorado Springs, CO\n",
      "East Boulder Street, Colorado Springs, CO\n",
      "North Circle Drive, Colorado Springs, CO\n",
      "Boradmoor Valley Road, Colorado Springs, CO\n",
      "West Cucharras Street, Colorado Springs, CO\n",
      "Old Farm Circle, Colorado Springs, CO\n",
      "Lexie Lane, Colorado Springs, CO\n",
      "Lexie Lane, Colorado Springs, CO\n",
      "Lexie Lane, Colorado Springs, CO\n",
      "Ada Lane, Colorado Springs, CO\n"
     ]
    },
    {
     "ename": "GeocoderTimedOut",
     "evalue": "Service timed out",
     "output_type": "error",
     "traceback": [
      "\u001b[0;31m---------------------------------------------------------------------------\u001b[0m",
      "\u001b[0;31mtimeout\u001b[0m                                   Traceback (most recent call last)",
      "\u001b[0;32m/Library/Frameworks/Python.framework/Versions/3.3/lib/python3.3/urllib/request.py\u001b[0m in \u001b[0;36mdo_open\u001b[0;34m(self, http_class, req, **http_conn_args)\u001b[0m\n\u001b[1;32m   1247\u001b[0m         \u001b[0;32mtry\u001b[0m\u001b[0;34m:\u001b[0m\u001b[0;34m\u001b[0m\u001b[0m\n\u001b[0;32m-> 1248\u001b[0;31m             \u001b[0mh\u001b[0m\u001b[0;34m.\u001b[0m\u001b[0mrequest\u001b[0m\u001b[0;34m(\u001b[0m\u001b[0mreq\u001b[0m\u001b[0;34m.\u001b[0m\u001b[0mget_method\u001b[0m\u001b[0;34m(\u001b[0m\u001b[0;34m)\u001b[0m\u001b[0;34m,\u001b[0m \u001b[0mreq\u001b[0m\u001b[0;34m.\u001b[0m\u001b[0mselector\u001b[0m\u001b[0;34m,\u001b[0m \u001b[0mreq\u001b[0m\u001b[0;34m.\u001b[0m\u001b[0mdata\u001b[0m\u001b[0;34m,\u001b[0m \u001b[0mheaders\u001b[0m\u001b[0;34m)\u001b[0m\u001b[0;34m\u001b[0m\u001b[0m\n\u001b[0m\u001b[1;32m   1249\u001b[0m         \u001b[0;32mexcept\u001b[0m \u001b[0msocket\u001b[0m\u001b[0;34m.\u001b[0m\u001b[0merror\u001b[0m \u001b[0;32mas\u001b[0m \u001b[0merr\u001b[0m\u001b[0;34m:\u001b[0m \u001b[0;31m# timeout error\u001b[0m\u001b[0;34m\u001b[0m\u001b[0m\n",
      "\u001b[0;32m/Library/Frameworks/Python.framework/Versions/3.3/lib/python3.3/http/client.py\u001b[0m in \u001b[0;36mrequest\u001b[0;34m(self, method, url, body, headers)\u001b[0m\n\u001b[1;32m   1060\u001b[0m         \u001b[0;34m\"\"\"Send a complete request to the server.\"\"\"\u001b[0m\u001b[0;34m\u001b[0m\u001b[0m\n\u001b[0;32m-> 1061\u001b[0;31m         \u001b[0mself\u001b[0m\u001b[0;34m.\u001b[0m\u001b[0m_send_request\u001b[0m\u001b[0;34m(\u001b[0m\u001b[0mmethod\u001b[0m\u001b[0;34m,\u001b[0m \u001b[0murl\u001b[0m\u001b[0;34m,\u001b[0m \u001b[0mbody\u001b[0m\u001b[0;34m,\u001b[0m \u001b[0mheaders\u001b[0m\u001b[0;34m)\u001b[0m\u001b[0;34m\u001b[0m\u001b[0m\n\u001b[0m\u001b[1;32m   1062\u001b[0m \u001b[0;34m\u001b[0m\u001b[0m\n",
      "\u001b[0;32m/Library/Frameworks/Python.framework/Versions/3.3/lib/python3.3/http/client.py\u001b[0m in \u001b[0;36m_send_request\u001b[0;34m(self, method, url, body, headers)\u001b[0m\n\u001b[1;32m   1098\u001b[0m             \u001b[0mbody\u001b[0m \u001b[0;34m=\u001b[0m \u001b[0mbody\u001b[0m\u001b[0;34m.\u001b[0m\u001b[0mencode\u001b[0m\u001b[0;34m(\u001b[0m\u001b[0;34m'iso-8859-1'\u001b[0m\u001b[0;34m)\u001b[0m\u001b[0;34m\u001b[0m\u001b[0m\n\u001b[0;32m-> 1099\u001b[0;31m         \u001b[0mself\u001b[0m\u001b[0;34m.\u001b[0m\u001b[0mendheaders\u001b[0m\u001b[0;34m(\u001b[0m\u001b[0mbody\u001b[0m\u001b[0;34m)\u001b[0m\u001b[0;34m\u001b[0m\u001b[0m\n\u001b[0m\u001b[1;32m   1100\u001b[0m \u001b[0;34m\u001b[0m\u001b[0m\n",
      "\u001b[0;32m/Library/Frameworks/Python.framework/Versions/3.3/lib/python3.3/http/client.py\u001b[0m in \u001b[0;36mendheaders\u001b[0;34m(self, message_body)\u001b[0m\n\u001b[1;32m   1056\u001b[0m             \u001b[0;32mraise\u001b[0m \u001b[0mCannotSendHeader\u001b[0m\u001b[0;34m(\u001b[0m\u001b[0;34m)\u001b[0m\u001b[0;34m\u001b[0m\u001b[0m\n\u001b[0;32m-> 1057\u001b[0;31m         \u001b[0mself\u001b[0m\u001b[0;34m.\u001b[0m\u001b[0m_send_output\u001b[0m\u001b[0;34m(\u001b[0m\u001b[0mmessage_body\u001b[0m\u001b[0;34m)\u001b[0m\u001b[0;34m\u001b[0m\u001b[0m\n\u001b[0m\u001b[1;32m   1058\u001b[0m \u001b[0;34m\u001b[0m\u001b[0m\n",
      "\u001b[0;32m/Library/Frameworks/Python.framework/Versions/3.3/lib/python3.3/http/client.py\u001b[0m in \u001b[0;36m_send_output\u001b[0;34m(self, message_body)\u001b[0m\n\u001b[1;32m    901\u001b[0m             \u001b[0mmessage_body\u001b[0m \u001b[0;34m=\u001b[0m \u001b[0;32mNone\u001b[0m\u001b[0;34m\u001b[0m\u001b[0m\n\u001b[0;32m--> 902\u001b[0;31m         \u001b[0mself\u001b[0m\u001b[0;34m.\u001b[0m\u001b[0msend\u001b[0m\u001b[0;34m(\u001b[0m\u001b[0mmsg\u001b[0m\u001b[0;34m)\u001b[0m\u001b[0;34m\u001b[0m\u001b[0m\n\u001b[0m\u001b[1;32m    903\u001b[0m         \u001b[0;32mif\u001b[0m \u001b[0mmessage_body\u001b[0m \u001b[0;32mis\u001b[0m \u001b[0;32mnot\u001b[0m \u001b[0;32mNone\u001b[0m\u001b[0;34m:\u001b[0m\u001b[0;34m\u001b[0m\u001b[0m\n",
      "\u001b[0;32m/Library/Frameworks/Python.framework/Versions/3.3/lib/python3.3/http/client.py\u001b[0m in \u001b[0;36msend\u001b[0;34m(self, data)\u001b[0m\n\u001b[1;32m    839\u001b[0m             \u001b[0;32mif\u001b[0m \u001b[0mself\u001b[0m\u001b[0;34m.\u001b[0m\u001b[0mauto_open\u001b[0m\u001b[0;34m:\u001b[0m\u001b[0;34m\u001b[0m\u001b[0m\n\u001b[0;32m--> 840\u001b[0;31m                 \u001b[0mself\u001b[0m\u001b[0;34m.\u001b[0m\u001b[0mconnect\u001b[0m\u001b[0;34m(\u001b[0m\u001b[0;34m)\u001b[0m\u001b[0;34m\u001b[0m\u001b[0m\n\u001b[0m\u001b[1;32m    841\u001b[0m             \u001b[0;32melse\u001b[0m\u001b[0;34m:\u001b[0m\u001b[0;34m\u001b[0m\u001b[0m\n",
      "\u001b[0;32m/Library/Frameworks/Python.framework/Versions/3.3/lib/python3.3/http/client.py\u001b[0m in \u001b[0;36mconnect\u001b[0;34m(self)\u001b[0m\n\u001b[1;32m   1193\u001b[0m             sock = socket.create_connection((self.host, self.port),\n\u001b[0;32m-> 1194\u001b[0;31m                                             self.timeout, self.source_address)\n\u001b[0m\u001b[1;32m   1195\u001b[0m \u001b[0;34m\u001b[0m\u001b[0m\n",
      "\u001b[0;32m/Library/Frameworks/Python.framework/Versions/3.3/lib/python3.3/socket.py\u001b[0m in \u001b[0;36mcreate_connection\u001b[0;34m(address, timeout, source_address)\u001b[0m\n\u001b[1;32m    434\u001b[0m     \u001b[0;32mif\u001b[0m \u001b[0merr\u001b[0m \u001b[0;32mis\u001b[0m \u001b[0;32mnot\u001b[0m \u001b[0;32mNone\u001b[0m\u001b[0;34m:\u001b[0m\u001b[0;34m\u001b[0m\u001b[0m\n\u001b[0;32m--> 435\u001b[0;31m         \u001b[0;32mraise\u001b[0m \u001b[0merr\u001b[0m\u001b[0;34m\u001b[0m\u001b[0m\n\u001b[0m\u001b[1;32m    436\u001b[0m     \u001b[0;32melse\u001b[0m\u001b[0;34m:\u001b[0m\u001b[0;34m\u001b[0m\u001b[0m\n",
      "\u001b[0;32m/Library/Frameworks/Python.framework/Versions/3.3/lib/python3.3/socket.py\u001b[0m in \u001b[0;36mcreate_connection\u001b[0;34m(address, timeout, source_address)\u001b[0m\n\u001b[1;32m    425\u001b[0m                 \u001b[0msock\u001b[0m\u001b[0;34m.\u001b[0m\u001b[0mbind\u001b[0m\u001b[0;34m(\u001b[0m\u001b[0msource_address\u001b[0m\u001b[0;34m)\u001b[0m\u001b[0;34m\u001b[0m\u001b[0m\n\u001b[0;32m--> 426\u001b[0;31m             \u001b[0msock\u001b[0m\u001b[0;34m.\u001b[0m\u001b[0mconnect\u001b[0m\u001b[0;34m(\u001b[0m\u001b[0msa\u001b[0m\u001b[0;34m)\u001b[0m\u001b[0;34m\u001b[0m\u001b[0m\n\u001b[0m\u001b[1;32m    427\u001b[0m             \u001b[0;32mreturn\u001b[0m \u001b[0msock\u001b[0m\u001b[0;34m\u001b[0m\u001b[0m\n",
      "\u001b[0;31mtimeout\u001b[0m: timed out",
      "\nDuring handling of the above exception, another exception occurred:\n",
      "\u001b[0;31mURLError\u001b[0m                                  Traceback (most recent call last)",
      "\u001b[0;32m/Library/Frameworks/Python.framework/Versions/3.3/lib/python3.3/site-packages/geopy/geocoders/base.py\u001b[0m in \u001b[0;36m_call_geocoder\u001b[0;34m(self, url, timeout, raw, requester, deserializer, **kwargs)\u001b[0m\n\u001b[1;32m    142\u001b[0m         \u001b[0;32mtry\u001b[0m\u001b[0;34m:\u001b[0m\u001b[0;34m\u001b[0m\u001b[0m\n\u001b[0;32m--> 143\u001b[0;31m             \u001b[0mpage\u001b[0m \u001b[0;34m=\u001b[0m \u001b[0mrequester\u001b[0m\u001b[0;34m(\u001b[0m\u001b[0mreq\u001b[0m\u001b[0;34m,\u001b[0m \u001b[0mtimeout\u001b[0m\u001b[0;34m=\u001b[0m\u001b[0;34m(\u001b[0m\u001b[0mtimeout\u001b[0m \u001b[0;32mor\u001b[0m \u001b[0mself\u001b[0m\u001b[0;34m.\u001b[0m\u001b[0mtimeout\u001b[0m\u001b[0;34m)\u001b[0m\u001b[0;34m,\u001b[0m \u001b[0;34m**\u001b[0m\u001b[0mkwargs\u001b[0m\u001b[0;34m)\u001b[0m\u001b[0;34m\u001b[0m\u001b[0m\n\u001b[0m\u001b[1;32m    144\u001b[0m         \u001b[0;32mexcept\u001b[0m \u001b[0mException\u001b[0m \u001b[0;32mas\u001b[0m \u001b[0merror\u001b[0m\u001b[0;34m:\u001b[0m \u001b[0;31m# pylint: disable=W0703\u001b[0m\u001b[0;34m\u001b[0m\u001b[0m\n",
      "\u001b[0;32m/Library/Frameworks/Python.framework/Versions/3.3/lib/python3.3/urllib/request.py\u001b[0m in \u001b[0;36murlopen\u001b[0;34m(url, data, timeout, cafile, capath, cadefault)\u001b[0m\n\u001b[1;32m    155\u001b[0m         \u001b[0mopener\u001b[0m \u001b[0;34m=\u001b[0m \u001b[0m_opener\u001b[0m\u001b[0;34m\u001b[0m\u001b[0m\n\u001b[0;32m--> 156\u001b[0;31m     \u001b[0;32mreturn\u001b[0m \u001b[0mopener\u001b[0m\u001b[0;34m.\u001b[0m\u001b[0mopen\u001b[0m\u001b[0;34m(\u001b[0m\u001b[0murl\u001b[0m\u001b[0;34m,\u001b[0m \u001b[0mdata\u001b[0m\u001b[0;34m,\u001b[0m \u001b[0mtimeout\u001b[0m\u001b[0;34m)\u001b[0m\u001b[0;34m\u001b[0m\u001b[0m\n\u001b[0m\u001b[1;32m    157\u001b[0m \u001b[0;34m\u001b[0m\u001b[0m\n",
      "\u001b[0;32m/Library/Frameworks/Python.framework/Versions/3.3/lib/python3.3/urllib/request.py\u001b[0m in \u001b[0;36mopen\u001b[0;34m(self, fullurl, data, timeout)\u001b[0m\n\u001b[1;32m    468\u001b[0m \u001b[0;34m\u001b[0m\u001b[0m\n\u001b[0;32m--> 469\u001b[0;31m         \u001b[0mresponse\u001b[0m \u001b[0;34m=\u001b[0m \u001b[0mself\u001b[0m\u001b[0;34m.\u001b[0m\u001b[0m_open\u001b[0m\u001b[0;34m(\u001b[0m\u001b[0mreq\u001b[0m\u001b[0;34m,\u001b[0m \u001b[0mdata\u001b[0m\u001b[0;34m)\u001b[0m\u001b[0;34m\u001b[0m\u001b[0m\n\u001b[0m\u001b[1;32m    470\u001b[0m \u001b[0;34m\u001b[0m\u001b[0m\n",
      "\u001b[0;32m/Library/Frameworks/Python.framework/Versions/3.3/lib/python3.3/urllib/request.py\u001b[0m in \u001b[0;36m_open\u001b[0;34m(self, req, data)\u001b[0m\n\u001b[1;32m    486\u001b[0m         result = self._call_chain(self.handle_open, protocol, protocol +\n\u001b[0;32m--> 487\u001b[0;31m                                   '_open', req)\n\u001b[0m\u001b[1;32m    488\u001b[0m         \u001b[0;32mif\u001b[0m \u001b[0mresult\u001b[0m\u001b[0;34m:\u001b[0m\u001b[0;34m\u001b[0m\u001b[0m\n",
      "\u001b[0;32m/Library/Frameworks/Python.framework/Versions/3.3/lib/python3.3/urllib/request.py\u001b[0m in \u001b[0;36m_call_chain\u001b[0;34m(self, chain, kind, meth_name, *args)\u001b[0m\n\u001b[1;32m    446\u001b[0m             \u001b[0mfunc\u001b[0m \u001b[0;34m=\u001b[0m \u001b[0mgetattr\u001b[0m\u001b[0;34m(\u001b[0m\u001b[0mhandler\u001b[0m\u001b[0;34m,\u001b[0m \u001b[0mmeth_name\u001b[0m\u001b[0;34m)\u001b[0m\u001b[0;34m\u001b[0m\u001b[0m\n\u001b[0;32m--> 447\u001b[0;31m             \u001b[0mresult\u001b[0m \u001b[0;34m=\u001b[0m \u001b[0mfunc\u001b[0m\u001b[0;34m(\u001b[0m\u001b[0;34m*\u001b[0m\u001b[0margs\u001b[0m\u001b[0;34m)\u001b[0m\u001b[0;34m\u001b[0m\u001b[0m\n\u001b[0m\u001b[1;32m    448\u001b[0m             \u001b[0;32mif\u001b[0m \u001b[0mresult\u001b[0m \u001b[0;32mis\u001b[0m \u001b[0;32mnot\u001b[0m \u001b[0;32mNone\u001b[0m\u001b[0;34m:\u001b[0m\u001b[0;34m\u001b[0m\u001b[0m\n",
      "\u001b[0;32m/Library/Frameworks/Python.framework/Versions/3.3/lib/python3.3/urllib/request.py\u001b[0m in \u001b[0;36mhttps_open\u001b[0;34m(self, req)\u001b[0m\n\u001b[1;32m   1282\u001b[0m             return self.do_open(http.client.HTTPSConnection, req,\n\u001b[0;32m-> 1283\u001b[0;31m                 context=self._context, check_hostname=self._check_hostname)\n\u001b[0m\u001b[1;32m   1284\u001b[0m \u001b[0;34m\u001b[0m\u001b[0m\n",
      "\u001b[0;32m/Library/Frameworks/Python.framework/Versions/3.3/lib/python3.3/urllib/request.py\u001b[0m in \u001b[0;36mdo_open\u001b[0;34m(self, http_class, req, **http_conn_args)\u001b[0m\n\u001b[1;32m   1250\u001b[0m             \u001b[0mh\u001b[0m\u001b[0;34m.\u001b[0m\u001b[0mclose\u001b[0m\u001b[0;34m(\u001b[0m\u001b[0;34m)\u001b[0m\u001b[0;34m\u001b[0m\u001b[0m\n\u001b[0;32m-> 1251\u001b[0;31m             \u001b[0;32mraise\u001b[0m \u001b[0mURLError\u001b[0m\u001b[0;34m(\u001b[0m\u001b[0merr\u001b[0m\u001b[0;34m)\u001b[0m\u001b[0;34m\u001b[0m\u001b[0m\n\u001b[0m\u001b[1;32m   1252\u001b[0m         \u001b[0;32melse\u001b[0m\u001b[0;34m:\u001b[0m\u001b[0;34m\u001b[0m\u001b[0m\n",
      "\u001b[0;31mURLError\u001b[0m: <urlopen error timed out>",
      "\nDuring handling of the above exception, another exception occurred:\n",
      "\u001b[0;31mGeocoderTimedOut\u001b[0m                          Traceback (most recent call last)",
      "\u001b[0;32m<ipython-input-19-8f55e0499187>\u001b[0m in \u001b[0;36m<module>\u001b[0;34m()\u001b[0m\n\u001b[1;32m     21\u001b[0m         \u001b[0maddr_string\u001b[0m \u001b[0;34m=\u001b[0m \u001b[0maddr_string\u001b[0m \u001b[0;34m+\u001b[0m \u001b[0;34m\", CO\"\u001b[0m\u001b[0;34m\u001b[0m\u001b[0m\n\u001b[1;32m     22\u001b[0m     \u001b[0mprint\u001b[0m\u001b[0;34m(\u001b[0m\u001b[0maddr_string\u001b[0m\u001b[0;34m)\u001b[0m\u001b[0;34m\u001b[0m\u001b[0m\n\u001b[0;32m---> 23\u001b[0;31m     \u001b[0mlocation\u001b[0m \u001b[0;34m=\u001b[0m \u001b[0mgeolocator\u001b[0m\u001b[0;34m.\u001b[0m\u001b[0mgeocode\u001b[0m\u001b[0;34m(\u001b[0m\u001b[0maddr_string\u001b[0m\u001b[0;34m)\u001b[0m\u001b[0;34m\u001b[0m\u001b[0m\n\u001b[0m\u001b[1;32m     24\u001b[0m     \u001b[0;32mif\u001b[0m \u001b[0mlocation\u001b[0m \u001b[0;34m!=\u001b[0m \u001b[0;32mNone\u001b[0m\u001b[0;34m:\u001b[0m\u001b[0;34m\u001b[0m\u001b[0m\n\u001b[1;32m     25\u001b[0m         \u001b[0mpost_code\u001b[0m \u001b[0;34m=\u001b[0m \u001b[0mlocation\u001b[0m\u001b[0;34m.\u001b[0m\u001b[0maddress\u001b[0m\u001b[0;34m.\u001b[0m\u001b[0msplit\u001b[0m\u001b[0;34m(\u001b[0m\u001b[0;34m', '\u001b[0m\u001b[0;34m)\u001b[0m\u001b[0;34m[\u001b[0m\u001b[0mlen\u001b[0m\u001b[0;34m(\u001b[0m\u001b[0mlocation\u001b[0m\u001b[0;34m.\u001b[0m\u001b[0maddress\u001b[0m\u001b[0;34m.\u001b[0m\u001b[0msplit\u001b[0m\u001b[0;34m(\u001b[0m\u001b[0;34m', '\u001b[0m\u001b[0;34m)\u001b[0m\u001b[0;34m)\u001b[0m\u001b[0;34m-\u001b[0m\u001b[0;36m2\u001b[0m\u001b[0;34m]\u001b[0m\u001b[0;34m\u001b[0m\u001b[0m\n",
      "\u001b[0;32m/Library/Frameworks/Python.framework/Versions/3.3/lib/python3.3/site-packages/geopy/geocoders/osm.py\u001b[0m in \u001b[0;36mgeocode\u001b[0;34m(self, query, exactly_one, timeout, addressdetails, language, geometry)\u001b[0m\n\u001b[1;32m    191\u001b[0m         \u001b[0mlogger\u001b[0m\u001b[0;34m.\u001b[0m\u001b[0mdebug\u001b[0m\u001b[0;34m(\u001b[0m\u001b[0;34m\"%s.geocode: %s\"\u001b[0m\u001b[0;34m,\u001b[0m \u001b[0mself\u001b[0m\u001b[0;34m.\u001b[0m\u001b[0m__class__\u001b[0m\u001b[0;34m.\u001b[0m\u001b[0m__name__\u001b[0m\u001b[0;34m,\u001b[0m \u001b[0murl\u001b[0m\u001b[0;34m)\u001b[0m\u001b[0;34m\u001b[0m\u001b[0m\n\u001b[1;32m    192\u001b[0m         return self._parse_json(\n\u001b[0;32m--> 193\u001b[0;31m             \u001b[0mself\u001b[0m\u001b[0;34m.\u001b[0m\u001b[0m_call_geocoder\u001b[0m\u001b[0;34m(\u001b[0m\u001b[0murl\u001b[0m\u001b[0;34m,\u001b[0m \u001b[0mtimeout\u001b[0m\u001b[0;34m=\u001b[0m\u001b[0mtimeout\u001b[0m\u001b[0;34m)\u001b[0m\u001b[0;34m,\u001b[0m \u001b[0mexactly_one\u001b[0m\u001b[0;34m\u001b[0m\u001b[0m\n\u001b[0m\u001b[1;32m    194\u001b[0m         )\n\u001b[1;32m    195\u001b[0m \u001b[0;34m\u001b[0m\u001b[0m\n",
      "\u001b[0;32m/Library/Frameworks/Python.framework/Versions/3.3/lib/python3.3/site-packages/geopy/geocoders/base.py\u001b[0m in \u001b[0;36m_call_geocoder\u001b[0;34m(self, url, timeout, raw, requester, deserializer, **kwargs)\u001b[0m\n\u001b[1;32m    161\u001b[0m             \u001b[0;32melif\u001b[0m \u001b[0misinstance\u001b[0m\u001b[0;34m(\u001b[0m\u001b[0merror\u001b[0m\u001b[0;34m,\u001b[0m \u001b[0mURLError\u001b[0m\u001b[0;34m)\u001b[0m\u001b[0;34m:\u001b[0m\u001b[0;34m\u001b[0m\u001b[0m\n\u001b[1;32m    162\u001b[0m                 \u001b[0;32mif\u001b[0m \u001b[0;34m\"timed out\"\u001b[0m \u001b[0;32min\u001b[0m \u001b[0mmessage\u001b[0m\u001b[0;34m:\u001b[0m\u001b[0;34m\u001b[0m\u001b[0m\n\u001b[0;32m--> 163\u001b[0;31m                     \u001b[0;32mraise\u001b[0m \u001b[0mGeocoderTimedOut\u001b[0m\u001b[0;34m(\u001b[0m\u001b[0;34m'Service timed out'\u001b[0m\u001b[0;34m)\u001b[0m\u001b[0;34m\u001b[0m\u001b[0m\n\u001b[0m\u001b[1;32m    164\u001b[0m                 \u001b[0;32melif\u001b[0m \u001b[0;34m\"unreachable\"\u001b[0m \u001b[0;32min\u001b[0m \u001b[0mmessage\u001b[0m\u001b[0;34m:\u001b[0m\u001b[0;34m\u001b[0m\u001b[0m\n\u001b[1;32m    165\u001b[0m                     \u001b[0;32mraise\u001b[0m \u001b[0mGeocoderUnavailable\u001b[0m\u001b[0;34m(\u001b[0m\u001b[0;34m'Service not available'\u001b[0m\u001b[0;34m)\u001b[0m\u001b[0;34m\u001b[0m\u001b[0m\n",
      "\u001b[0;31mGeocoderTimedOut\u001b[0m: Service timed out"
     ]
    }
   ],
   "source": [
    "# Updating zipcode from street and city data.\n",
    "# This section gave service time out errors, so this section was run multiple times, until all addresses were updated.\n",
    "pipeline = {\"address\":{\"$exists\":1},\n",
    "            \"address.street\":{\"$exists\":1},\n",
    "            \"address.postcode\":{\"$exists\":0},\n",
    "            }\n",
    "print(db.CoSprings.find(pipeline).count())\n",
    "add_cur = db.CoSprings.find(pipeline)\n",
    "i_print = 0\n",
    "    \n",
    "for a in add_cur:\n",
    "    #pprint.pprint(a)\n",
    "    addr_string = \"\"\n",
    "    fields = a['address']\n",
    "    addr_string = a['address']['street']\n",
    "    if 'city' in fields: \n",
    "        addr_string = addr_string + \",\" + a['address']['city']\n",
    "        addr_string = addr_string + \", CO\"\n",
    "    else:    \n",
    "        addr_string = addr_string + \", Colorado Springs\"\n",
    "        addr_string = addr_string + \", CO\" \n",
    "    print(addr_string)\n",
    "    location = geolocator.geocode(addr_string)\n",
    "    if location != None:\n",
    "        post_code = location.address.split(', ')[len(location.address.split(', '))-2]\n",
    "        print_var = check_postcode(post_code)\n",
    "        if print_var == 1:    \n",
    "            a['address']['postcode'] = post_code\n",
    "            db.CoSprings.save(a)\n",
    "            if i_print<10:\n",
    "                print(\"Street name: \" + addr_string + ', post code added: ' + post_code)\n",
    "                i_print = i_print+1\n"
   ]
  },
  {
   "cell_type": "code",
   "execution_count": 25,
   "metadata": {
    "collapsed": false
   },
   "outputs": [
    {
     "name": "stdout",
     "output_type": "stream",
     "text": [
      "367  addresses have post code missing\n"
     ]
    }
   ],
   "source": [
    "# Checking how many addresses have zipcode missing.\n",
    "pipeline = {\"address\":{\"$exists\":1},\n",
    "            \"address.street\":{\"$exists\":1},\n",
    "            \"address.postcode\":{\"$exists\":0},\n",
    "            }\n",
    "print(str(db.CoSprings.find(pipeline).count()) + \"  addresses have post code missing\")"
   ]
  },
  {
   "cell_type": "code",
   "execution_count": null,
   "metadata": {
    "collapsed": false
   },
   "outputs": [],
   "source": []
  },
  {
   "cell_type": "code",
   "execution_count": 33,
   "metadata": {
    "collapsed": false
   },
   "outputs": [
    {
     "name": "stdout",
     "output_type": "stream",
     "text": [
      "20742 of 23183 addresses do not have both city and post code data\n"
     ]
    }
   ],
   "source": [
    "# Checking how many addresses have zipcode missing.\n",
    "pipeline = {\"address\":{\"$exists\":1},\n",
    "            }\n",
    "num_all = db.CoSprings.find(pipeline).count()\n",
    "\n",
    "pipeline = {\"address\":{\"$exists\":1},\n",
    "            \"address.city\":{\"$exists\":1},\n",
    "            \"address.postcode\":{\"$exists\":1},\n",
    "            }\n",
    "num_all_adr = db.CoSprings.find(pipeline).count()\n",
    "print(str(num_all_adr) + \" of \" + str(num_all) + \" addresses do not have both city and post code data\")"
   ]
  },
  {
   "cell_type": "markdown",
   "metadata": {},
   "source": [
    "Before updating, 15842 streets had both city and post  code information. After updating city names using post codes, and post codes using street and city names, this number increased to 20742."
   ]
  },
  {
   "cell_type": "code",
   "execution_count": 34,
   "metadata": {
    "collapsed": false
   },
   "outputs": [
    {
     "name": "stdout",
     "output_type": "stream",
     "text": [
      "367\n"
     ]
    }
   ],
   "source": [
    "pipeline = {\"address\":{\"$exists\":1},\n",
    "            \"address.street\":{\"$exists\":1},\n",
    "            \"address.postcode\":{\"$exists\":0},\n",
    "            }\n",
    "print(db.CoSprings.find(pipeline).count())"
   ]
  },
  {
   "cell_type": "markdown",
   "metadata": {
    "collapsed": false
   },
   "source": [
    "#### <a id='import_Mdb'>Manually updating 3 street names </a>\n"
   ]
  },
  {
   "cell_type": "code",
   "execution_count": 35,
   "metadata": {
    "collapsed": false
   },
   "outputs": [
    {
     "data": {
      "text/plain": [
       "ObjectId('5683d5db9f81c615f09a2f7c')"
      ]
     },
     "execution_count": 35,
     "metadata": {},
     "output_type": "execute_result"
    }
   ],
   "source": [
    "post_add1 = db.CoSprings.find_one({'address.street': 'El Paso Blvd, Manitou Springs, CO 80829'})\n",
    "post_add1['address']['street'] = 'El Paso Boulevard'\n",
    "post_add1['address']['city'] = 'Manitou Springs'\n",
    "post_add1['address']['state'] = 'CO'\n",
    "#pprint.pprint(post_add1)\n",
    "db.CoSprings.save(post_add1)\n",
    "\n",
    "post_add1 = db.CoSprings.find_one({'address.street': '1 Lake Avenue  Colorado Springs, CO'})\n",
    "post_add1['address']['street'] = '1 Lake Avenue'\n",
    "post_add1['address']['city'] = 'Colorado Springs'\n",
    "post_add1['address']['state'] = 'CO'\n",
    "#pprint.pprint(post_add1)\n",
    "db.CoSprings.save(post_add1)\n",
    "\n",
    "post_add1 = db.CoSprings.find_one({'address.street': '230 Point of the Pines Drive  Colorado Springs, CO 80919'})\n",
    "post_add1['address']['Point of the Pines Drive'] = '1 Lake Avenue'\n",
    "post_add1['address']['city'] = 'Colorado Springs'\n",
    "post_add1['address']['state'] = 'CO'\n",
    "post_add1['address']['housenumber'] = '230'\n",
    "#pprint.pprint(post_add1)\n",
    "db.CoSprings.save(post_add1)\n",
    "\n"
   ]
  },
  {
   "cell_type": "code",
   "execution_count": 36,
   "metadata": {
    "collapsed": false
   },
   "outputs": [
    {
     "name": "stdout",
     "output_type": "stream",
     "text": [
      "23183\n",
      "20686\n"
     ]
    }
   ],
   "source": [
    "pipeline = {\"address\":{\"$exists\":1}\n",
    "            }\n",
    "print(db.CoSprings.find(pipeline).count())\n",
    "\n",
    "pipeline = {\"address\":{\"$exists\":1},\n",
    "            \"address.street\":{\"$exists\":1},\n",
    "            \"address.postcode\":{\"$exists\":1},\n",
    "            \"address.city\":{\"$exists\":1},\n",
    "            }\n",
    "print(db.CoSprings.find(pipeline).count())\n"
   ]
  },
  {
   "cell_type": "code",
   "execution_count": null,
   "metadata": {
    "collapsed": false
   },
   "outputs": [],
   "source": []
  },
  {
   "cell_type": "code",
   "execution_count": null,
   "metadata": {
    "collapsed": true
   },
   "outputs": [],
   "source": []
  },
  {
   "cell_type": "markdown",
   "metadata": {},
   "source": [
    "#### <a id='some_facts'>Some interesting facts about data </a>\n",
    "\n",
    "There are total of 1653045 entries in Colorado springs data base of which 16731 are street addresses. Of these, 79 entries had street names in unexpected format. After cleaning, this number dropped to 2. Next number of data updates from individual users are quantified.  \n"
   ]
  },
  {
   "cell_type": "code",
   "execution_count": 26,
   "metadata": {
    "collapsed": false
   },
   "outputs": [
    {
     "name": "stdout",
     "output_type": "stream",
     "text": [
      "{'_id': 'FrozenFlame22', 'count': 843172}\n",
      "{'_id': 'CS_Mur', 'count': 36812}\n",
      "{'_id': 'Your Village Maps', 'count': 30842}\n",
      "{'_id': 'Jason R Surratt', 'count': 30406}\n",
      "{'_id': 'GPS_dr', 'count': 24908}\n",
      "{'_id': 'Chris CA', 'count': 14306}\n",
      "{'_id': 'Mark Newnham', 'count': 6216}\n",
      "{'_id': 'gpspilot1', 'count': 5678}\n",
      "{'_id': 'arezookeeper', 'count': 5444}\n",
      "{'_id': 'SpenSmith', 'count': 5360}\n",
      "1003144\n"
     ]
    },
    {
     "data": {
      "image/png": "[encoded data removed]",
      "text/plain": [
       "<matplotlib.figure.Figure at 0x139714110>"
      ]
     },
     "metadata": {},
     "output_type": "display_data"
    }
   ],
   "source": [
    "usr_csr = db.CoSprings.aggregate([{\"$group\":{\"_id\":\"$created.user\", \n",
    "                                             \"count\":{\"$sum\":1}}}, \n",
    "                                  {\"$sort\":{\"count\":-1}},\n",
    "                                  {\"$limit\":10}\n",
    "                                 ])\n",
    "usr_list = []\n",
    "num_10 = 0\n",
    "num_usr_list = []\n",
    "for a in usr_csr:\n",
    "    pprint.pprint(a)\n",
    "    num_10 = num_10+a['count']\n",
    "    num_usr_list.append(num_10)\n",
    "print(num_10)\n",
    "\n",
    "plt.plot(num_usr_list)\n",
    "plt.ylabel('some numbers')\n",
    "plt.show()"
   ]
  },
  {
   "cell_type": "code",
   "execution_count": 27,
   "metadata": {
    "collapsed": false
   },
   "outputs": [
    {
     "name": "stdout",
     "output_type": "stream",
     "text": [
      "[843172, 879984, 910826, 941232, 966140, 980446, 986662, 992340, 997784, 1003144]\n"
     ]
    }
   ],
   "source": [
    "print(num_usr_list)"
   ]
  },
  {
   "cell_type": "markdown",
   "metadata": {
    "collapsed": false
   },
   "source": [
    "Of the 1653045 entries, about 75% were by one user \"FrozenFlame22\" and 91% from the top 10 users. The restaruants are investigated next. Village Inn has the most entries with 15 followed by pizza hut at 12. "
   ]
  },
  {
   "cell_type": "code",
   "execution_count": 28,
   "metadata": {
    "collapsed": false
   },
   "outputs": [
    {
     "name": "stdout",
     "output_type": "stream",
     "text": [
      "{'_id': None, 'count': 22}\n",
      "{'_id': 'Village Inn', 'count': 10}\n",
      "{'_id': 'Pizza Hut', 'count': 8}\n",
      "{'_id': 'Red Robin', 'count': 6}\n",
      "{'_id': \"Louie's Pizza\", 'count': 6}\n",
      "{'_id': 'Einstein Brothers Bagels', 'count': 4}\n",
      "{'_id': 'Bhan Thai', 'count': 4}\n",
      "{'_id': 'Borriello Brothers NY Pizza', 'count': 4}\n",
      "{'_id': \"King's Chef Diner\", 'count': 4}\n",
      "{'_id': \"Panino's Italian Restaurant\", 'count': 4}\n"
     ]
    }
   ],
   "source": [
    "restaurants_csr = db.CoSprings.aggregate([\n",
    "        {\"$match\" : {\"amenity\" : \"restaurant\"}},\n",
    "        {\"$group\" : {\"_id\" : \"$name\",\n",
    "                     \"count\" : {\"$sum\" : 1}}\n",
    "        },\n",
    "        {\"$sort\" : {\"count\" : -1},\n",
    "        },\n",
    "        {\"$limit\" : 10,\n",
    "        }\n",
    "    ])\n",
    "restaurants_list = []\n",
    "for a in restaurants_csr:\n",
    "    pprint.pprint(a)"
   ]
  },
  {
   "cell_type": "code",
   "execution_count": null,
   "metadata": {
    "collapsed": true
   },
   "outputs": [],
   "source": [
    "pipeline = [{\"$match\":{\"address\":{\"$exists\":1},\n",
    "                       \"address.city\":{\"$exists\":0},\n",
    "                       \"address.postcode\":{\"$exists\":1}\n",
    "            }}, \n",
    "            {\"$group\":{\"_id\":\"$address.postcode\",\n",
    "                       \"count\":{\"$sum\":1}}}, \n",
    "            {\"$sort\":{\"count\":-1}},\n",
    "           {\"$limit\":10}]\n",
    "\n",
    "city_csr = db.CoSprings.aggregate(pipeline)\n",
    "for a in city_csr:\n",
    "    pprint.pprint(a)"
   ]
  },
  {
   "cell_type": "markdown",
   "metadata": {},
   "source": [
    "Among amenities, the top 3 data uploads were for parking (5658), restaurant (639) and school (558)."
   ]
  },
  {
   "cell_type": "code",
   "execution_count": 228,
   "metadata": {
    "collapsed": false
   },
   "outputs": [
    {
     "name": "stdout",
     "output_type": "stream",
     "text": [
      "{'_id': 'parking', 'count': 1886}\n",
      "{'_id': 'restaurant', 'count': 213}\n",
      "{'_id': 'school', 'count': 186}\n",
      "{'_id': 'fast_food', 'count': 144}\n",
      "{'_id': 'post_box', 'count': 100}\n",
      "{'_id': 'bench', 'count': 95}\n",
      "{'_id': 'fuel', 'count': 86}\n",
      "{'_id': 'place_of_worship', 'count': 70}\n",
      "{'_id': 'bank', 'count': 57}\n",
      "{'_id': 'toilets', 'count': 39}\n"
     ]
    }
   ],
   "source": [
    "pipeline = [{\"$match\":{\"amenity\":{\"$exists\":1}}}, \n",
    "            {\"$group\":{\"_id\":\"$amenity\",\n",
    "                       \"count\":{\"$sum\":1}}}, \n",
    "            {\"$sort\":{\"count\":-1}}, {\"$limit\":10}]\n",
    "\n",
    "\n",
    "amenities_csr = db.CoSprings.aggregate(pipeline)\n",
    "amenities_list = []\n",
    "for a in amenities_csr:\n",
    "    pprint.pprint(a)"
   ]
  },
  {
   "cell_type": "code",
   "execution_count": 38,
   "metadata": {
    "collapsed": false
   },
   "outputs": [
    {
     "name": "stdout",
     "output_type": "stream",
     "text": [
      "<class '_io.TextIOWrapper'>\n"
     ]
    }
   ],
   "source": [
    "#!/usr/bin/env python\n",
    "# -*- coding: utf-8 -*-\n",
    "\n",
    "import xml.etree.ElementTree as ET  # Use cElementTree or lxml if too slow\n",
    "\n",
    "OSM_FILE = \"colorado-springs_colorado.osm\"  # Replace this with your osm file\n",
    "SAMPLE_FILE = \"colorado-springs_colorado_sample.osm\"\n",
    "\n",
    "\n",
    "def get_element(osm_file, tags=('node', 'way', 'relation')):\n",
    "    \"\"\"Yield element if it is the right type of tag\n",
    "\n",
    "    Reference:\n",
    "    http://stackoverflow.com/questions/3095434/inserting-newlines-in-xml-file-generated-via-xml-etree-elementtree-in-python\n",
    "    \"\"\"\n",
    "    context = ET.iterparse(osm_file, events=('start', 'end'))\n",
    "    _, root = next(context)\n",
    "    for event, elem in context:\n",
    "        if event == 'end' and elem.tag in tags:\n",
    "            yield elem\n",
    "            root.clear()\n",
    "\n",
    "\n",
    "with open(SAMPLE_FILE, 'w') as output:\n",
    "    print(type(output))\n",
    "    output.write('<?xml version=\"1.0\" encoding=\"UTF-8\"?>\\n')\n",
    "    output.write('<osm>\\n  ')\n",
    "\n",
    "    # Write every 10th top level element\n",
    "    for i, element in enumerate(get_element(OSM_FILE)):\n",
    "        if i % 10 == 0:\n",
    "            #print(str(ET.tostring(element, encoding='utf-8')))\n",
    "            output.write(str(ET.tostring(element, encoding='utf-8')))\n",
    "\n",
    "    output.write('</osm>')"
   ]
  },
  {
   "cell_type": "code",
   "execution_count": 31,
   "metadata": {
    "collapsed": true
   },
   "outputs": [],
   "source": [
    "#drop_db()"
   ]
  },
  {
   "cell_type": "code",
   "execution_count": 32,
   "metadata": {
    "collapsed": true
   },
   "outputs": [],
   "source": []
  },
  {
   "cell_type": "code",
   "execution_count": null,
   "metadata": {
    "collapsed": true
   },
   "outputs": [],
   "source": []
  }
 ],
 "metadata": {
  "kernelspec": {
   "display_name": "Python 3",
   "language": "python",
   "name": "python3"
  },
  "language_info": {
   "codemirror_mode": {
    "name": "ipython",
    "version": 3
   },
   "file_extension": ".py",
   "mimetype": "text/x-python",
   "name": "python",
   "nbconvert_exporter": "python",
   "pygments_lexer": "ipython3",
   "version": "3.3.2"
  }
 },
 "nbformat": 4,
 "nbformat_minor": 0
}
